{
 "cells": [
  {
   "cell_type": "markdown",
   "id": "6bd7c431",
   "metadata": {},
   "source": [
    "## In this notebook\n",
    "\n",
    "- Get models predictions and create data for submission."
   ]
  },
  {
   "cell_type": "code",
   "execution_count": 1,
   "id": "fb76e3a2",
   "metadata": {},
   "outputs": [
    {
     "name": "stderr",
     "output_type": "stream",
     "text": [
      "/opt/venv/lib/python3.8/site-packages/tensorflow_io/python/ops/__init__.py:98: UserWarning: unable to load libtensorflow_io_plugins.so: unable to open file: libtensorflow_io_plugins.so, from paths: ['/opt/venv/lib/python3.8/site-packages/tensorflow_io/python/ops/libtensorflow_io_plugins.so']\n",
      "caused by: [\"[Errno 2] The file to load file system plugin from does not exist.: '/opt/venv/lib/python3.8/site-packages/tensorflow_io/python/ops/libtensorflow_io_plugins.so'\"]\n",
      "  warnings.warn(f\"unable to load libtensorflow_io_plugins.so: {e}\")\n",
      "/opt/venv/lib/python3.8/site-packages/tensorflow_io/python/ops/__init__.py:104: UserWarning: file system plugins are not loaded: unable to open file: libtensorflow_io.so, from paths: ['/opt/venv/lib/python3.8/site-packages/tensorflow_io/python/ops/libtensorflow_io.so']\n",
      "caused by: ['/opt/venv/lib/python3.8/site-packages/tensorflow_io/python/ops/libtensorflow_io.so: cannot open shared object file: No such file or directory']\n",
      "  warnings.warn(f\"file system plugins are not loaded: {e}\")\n"
     ]
    }
   ],
   "source": [
    "import os\n",
    "import shutil\n",
    "import datetime\n",
    "\n",
    "# analytics\n",
    "import pandas as pd\n",
    "pd.set_option('display.max_rows', 100)\n",
    "pd.set_option('display.max_columns', 100)\n",
    "import numpy as np\n",
    "\n",
    "# model\n",
    "from tensorflow import keras\n",
    "from keras.models import load_model\n",
    "\n",
    "# plot\n",
    "import matplotlib\n",
    "import matplotlib.pyplot as plt\n",
    "import seaborn as sns\n",
    "sns.set()"
   ]
  },
  {
   "cell_type": "code",
   "execution_count": 2,
   "id": "9b8965ad",
   "metadata": {},
   "outputs": [],
   "source": [
    "%matplotlib inline\n",
    "plt.rcParams['figure.figsize'] = [10, 5]"
   ]
  },
  {
   "cell_type": "code",
   "execution_count": 3,
   "id": "b659b234",
   "metadata": {},
   "outputs": [],
   "source": [
    "DATA_FOLDER = \"../data\"\n",
    "\n",
    "TIMESTEP = 96\n",
    "TEST_DATA_DAYS_CNT = 19\n",
    "TEST_DATA_MIN_DATE = \"2021-02-19 00:00:00\"\n",
    "TEST_DATA_MAX_DATE = \"2021-03-10 23:45:00\"\n",
    "\n",
    "TARGETS = [\"Available\", \"Charging\", \"Passive\", \"Other\"]\n",
    "SUBMISSIONS_FOLDER = \"../data/submissions/\""
   ]
  },
  {
   "cell_type": "code",
   "execution_count": 4,
   "id": "1cfe2fd8",
   "metadata": {
    "scrolled": true
   },
   "outputs": [
    {
     "name": "stdout",
     "output_type": "stream",
     "text": [
      "total 182060\r\n",
      "-rw-r--r-- 1 nobody nogroup    570468 Nov 28 10:44 20221128104433_submissions.zip\r\n",
      "drwxr-xr-x 5 nobody nogroup       160 Nov 28 10:06 submissions\r\n",
      "-rw-rw-r-- 1 nobody nogroup  14095077 Aug  4 08:41 test.csv\r\n",
      "-rw-rw-r-- 1 nobody nogroup 171754453 Aug  4 08:41 train.csv\r\n"
     ]
    }
   ],
   "source": [
    "! ls -l $DATA_FOLDER"
   ]
  },
  {
   "cell_type": "markdown",
   "id": "702f2abb",
   "metadata": {},
   "source": [
    "## Load data"
   ]
  },
  {
   "cell_type": "code",
   "execution_count": 5,
   "id": "4a917206",
   "metadata": {},
   "outputs": [
    {
     "data": {
      "text/html": [
       "<div>\n",
       "<style scoped>\n",
       "    .dataframe tbody tr th:only-of-type {\n",
       "        vertical-align: middle;\n",
       "    }\n",
       "\n",
       "    .dataframe tbody tr th {\n",
       "        vertical-align: top;\n",
       "    }\n",
       "\n",
       "    .dataframe thead th {\n",
       "        text-align: right;\n",
       "    }\n",
       "</style>\n",
       "<table border=\"1\" class=\"dataframe\">\n",
       "  <thead>\n",
       "    <tr style=\"text-align: right;\">\n",
       "      <th></th>\n",
       "      <th>date</th>\n",
       "      <th>station</th>\n",
       "      <th>available</th>\n",
       "      <th>charging</th>\n",
       "      <th>passive</th>\n",
       "      <th>other</th>\n",
       "      <th>tod</th>\n",
       "      <th>dow</th>\n",
       "      <th>trend</th>\n",
       "      <th>latitude</th>\n",
       "      <th>longitude</th>\n",
       "      <th>postcode</th>\n",
       "      <th>area</th>\n",
       "    </tr>\n",
       "  </thead>\n",
       "  <tbody>\n",
       "    <tr>\n",
       "      <th>1851078</th>\n",
       "      <td>2021-02-18 23:45:00</td>\n",
       "      <td>FR*V75*EBELI*32*1</td>\n",
       "      <td>3</td>\n",
       "      <td>0</td>\n",
       "      <td>0</td>\n",
       "      <td>0</td>\n",
       "      <td>95</td>\n",
       "      <td>5</td>\n",
       "      <td>22202</td>\n",
       "      <td>48.84477</td>\n",
       "      <td>2.352420</td>\n",
       "      <td>75005</td>\n",
       "      <td>south</td>\n",
       "    </tr>\n",
       "    <tr>\n",
       "      <th>1851079</th>\n",
       "      <td>2021-02-18 23:45:00</td>\n",
       "      <td>FR*V75*EBELI*31*1</td>\n",
       "      <td>2</td>\n",
       "      <td>1</td>\n",
       "      <td>0</td>\n",
       "      <td>0</td>\n",
       "      <td>95</td>\n",
       "      <td>5</td>\n",
       "      <td>22202</td>\n",
       "      <td>48.85104</td>\n",
       "      <td>2.345493</td>\n",
       "      <td>75005</td>\n",
       "      <td>south</td>\n",
       "    </tr>\n",
       "    <tr>\n",
       "      <th>1851080</th>\n",
       "      <td>2021-02-18 23:45:00</td>\n",
       "      <td>FR*V75*EBELI*30*1</td>\n",
       "      <td>2</td>\n",
       "      <td>0</td>\n",
       "      <td>1</td>\n",
       "      <td>0</td>\n",
       "      <td>95</td>\n",
       "      <td>5</td>\n",
       "      <td>22202</td>\n",
       "      <td>48.84571</td>\n",
       "      <td>2.345032</td>\n",
       "      <td>75005</td>\n",
       "      <td>south</td>\n",
       "    </tr>\n",
       "    <tr>\n",
       "      <th>1851081</th>\n",
       "      <td>2021-02-18 23:45:00</td>\n",
       "      <td>FR*V75*EBELI*39*1</td>\n",
       "      <td>1</td>\n",
       "      <td>0</td>\n",
       "      <td>1</td>\n",
       "      <td>1</td>\n",
       "      <td>95</td>\n",
       "      <td>5</td>\n",
       "      <td>22202</td>\n",
       "      <td>48.85267</td>\n",
       "      <td>2.313680</td>\n",
       "      <td>75007</td>\n",
       "      <td>west</td>\n",
       "    </tr>\n",
       "    <tr>\n",
       "      <th>1851082</th>\n",
       "      <td>2021-02-18 23:45:00</td>\n",
       "      <td>FR*V75*EBELI*99*1</td>\n",
       "      <td>3</td>\n",
       "      <td>0</td>\n",
       "      <td>0</td>\n",
       "      <td>0</td>\n",
       "      <td>95</td>\n",
       "      <td>5</td>\n",
       "      <td>22202</td>\n",
       "      <td>48.87780</td>\n",
       "      <td>2.391820</td>\n",
       "      <td>75019</td>\n",
       "      <td>east</td>\n",
       "    </tr>\n",
       "  </tbody>\n",
       "</table>\n",
       "</div>"
      ],
      "text/plain": [
       "                        date            station  available  charging  passive  \\\n",
       "1851078  2021-02-18 23:45:00  FR*V75*EBELI*32*1          3         0        0   \n",
       "1851079  2021-02-18 23:45:00  FR*V75*EBELI*31*1          2         1        0   \n",
       "1851080  2021-02-18 23:45:00  FR*V75*EBELI*30*1          2         0        1   \n",
       "1851081  2021-02-18 23:45:00  FR*V75*EBELI*39*1          1         0        1   \n",
       "1851082  2021-02-18 23:45:00  FR*V75*EBELI*99*1          3         0        0   \n",
       "\n",
       "         other  tod  dow  trend  latitude  longitude  postcode   area  \n",
       "1851078      0   95    5  22202  48.84477   2.352420     75005  south  \n",
       "1851079      0   95    5  22202  48.85104   2.345493     75005  south  \n",
       "1851080      0   95    5  22202  48.84571   2.345032     75005  south  \n",
       "1851081      1   95    5  22202  48.85267   2.313680     75007   west  \n",
       "1851082      0   95    5  22202  48.87780   2.391820     75019   east  "
      ]
     },
     "execution_count": 5,
     "metadata": {},
     "output_type": "execute_result"
    }
   ],
   "source": [
    "# load train data\n",
    "\n",
    "df = pd.read_csv(os.path.join(DATA_FOLDER, \"train.csv\"))\n",
    "df.columns = [col.lower() for col in df.columns]\n",
    "df = df.sort_values(by=\"date\").reset_index(drop=True)\n",
    "\n",
    "df.tail()"
   ]
  },
  {
   "cell_type": "markdown",
   "id": "38682588",
   "metadata": {},
   "source": [
    "## Get predictions"
   ]
  },
  {
   "cell_type": "markdown",
   "id": "33a409b4",
   "metadata": {},
   "source": [
    "### 1st option\n",
    "\n",
    "- Prediction one by one.\n",
    "- Very slow, but seems to be more precise."
   ]
  },
  {
   "cell_type": "code",
   "execution_count": 6,
   "id": "7497e638",
   "metadata": {},
   "outputs": [
    {
     "name": "stdout",
     "output_type": "stream",
     "text": [
      "CPU times: user 2 µs, sys: 0 ns, total: 2 µs\n",
      "Wall time: 3.81 µs\n"
     ]
    },
    {
     "data": {
      "text/plain": [
       "'\\npreds = []\\n\\nfor y_column in [\"available\", \"charging\", \"passive\"]:\\n    \\n    model = load_model(f\"./models/col_{y_column}_1.h5\")\\n\\n    for station in df.station.unique():\\n\\n        last_values = (\\n            df\\n            .loc[df.station == station, y_column]\\n            .tail(TIMESTEP)\\n            .astype(float)\\n            .to_list()\\n        )\\n        \\n        for i, date in enumerate(pd.date_range(start=TEST_DATA_MIN_DATE, end=TEST_DATA_MAX_DATE, freq=\"15min\")):\\n            if i > 0:\\n                last_values.pop(0)\\n                last_values.append(pred)\\n\\n            pred = model.predict(\\n                np.array(last_values).reshape(1, TIMESTEP, 1), \\n                verbose=0\\n            )[0][0][0]\\n            \\n            preds.append({\\n                \"date\": date,\\n                \"station\": station,\\n                f\"{y_column}\": pred,\\n            })\\n        \\n        print(f\"✅ Finished predicting the following station: {station}\")\\n        \\n        break\\n    \\n    break\\n    \\ndf_preds = pd.DataFrame(preds)\\ndf_preds.shape\\n'"
      ]
     },
     "execution_count": 6,
     "metadata": {},
     "output_type": "execute_result"
    }
   ],
   "source": [
    "%%time\n",
    "\n",
    "\"\"\"\n",
    "preds = []\n",
    "\n",
    "for y_column in [\"available\", \"charging\", \"passive\"]:\n",
    "    \n",
    "    model = load_model(f\"./models/col_{y_column}_1.h5\")\n",
    "\n",
    "    for station in df.station.unique():\n",
    "\n",
    "        last_values = (\n",
    "            df\n",
    "            .loc[df.station == station, y_column]\n",
    "            .tail(TIMESTEP)\n",
    "            .astype(float)\n",
    "            .to_list()\n",
    "        )\n",
    "        \n",
    "        for i, date in enumerate(pd.date_range(start=TEST_DATA_MIN_DATE, end=TEST_DATA_MAX_DATE, freq=\"15min\")):\n",
    "            if i > 0:\n",
    "                last_values.pop(0)\n",
    "                last_values.append(pred)\n",
    "\n",
    "            pred = model.predict(\n",
    "                np.array(last_values).reshape(1, TIMESTEP, 1), \n",
    "                verbose=0\n",
    "            )[0][0][0]\n",
    "            \n",
    "            preds.append({\n",
    "                \"date\": date,\n",
    "                \"station\": station,\n",
    "                f\"{y_column}\": pred,\n",
    "            })\n",
    "        \n",
    "        print(f\"✅ Finished predicting the following station: {station}\")\n",
    "        \n",
    "        break\n",
    "    \n",
    "    break\n",
    "    \n",
    "df_preds = pd.DataFrame(preds)\n",
    "df_preds.shape\n",
    "\"\"\""
   ]
  },
  {
   "cell_type": "code",
   "execution_count": 7,
   "id": "057a8980",
   "metadata": {},
   "outputs": [
    {
     "data": {
      "text/plain": [
       "'\\nax = df_preds.available.plot()\\n\\nax.set_xlabel(\"Timeline\")\\nax.set_ylabel(\"Available plugs prediction\")\\nax.set_title(f\"Predictions\")\\n\\nplt.show()\\n'"
      ]
     },
     "execution_count": 7,
     "metadata": {},
     "output_type": "execute_result"
    }
   ],
   "source": [
    "\"\"\"\n",
    "ax = df_preds.available.plot()\n",
    "\n",
    "ax.set_xlabel(\"Timeline\")\n",
    "ax.set_ylabel(\"Available plugs prediction\")\n",
    "ax.set_title(f\"Predictions\")\n",
    "\n",
    "plt.show()\n",
    "\"\"\""
   ]
  },
  {
   "cell_type": "markdown",
   "id": "352e041e",
   "metadata": {},
   "source": [
    "### 2nd option\n",
    "\n",
    "- Prediction daily batches.\n",
    "- Much faster, but seems to be less precise."
   ]
  },
  {
   "cell_type": "code",
   "execution_count": 8,
   "id": "43122ac6",
   "metadata": {
    "scrolled": true
   },
   "outputs": [
    {
     "name": "stdout",
     "output_type": "stream",
     "text": [
      "✅ Finished predicting `available` column.\n",
      "✅ Finished predicting `charging` column.\n",
      "✅ Finished predicting `passive` column.\n",
      "CPU times: user 3min 12s, sys: 8.88 s, total: 3min 21s\n",
      "Wall time: 2min 48s\n"
     ]
    }
   ],
   "source": [
    "%%time\n",
    "\n",
    "dfs = []\n",
    "\n",
    "for y_column in [\"available\", \"charging\", \"passive\"]:\n",
    "    \n",
    "    model = load_model(f\"./models/col_{y_column}_1.h5\")\n",
    "    \n",
    "    for station in df.station.unique():\n",
    "        \n",
    "        preds = []\n",
    "        last_values = (\n",
    "            df\n",
    "            .loc[df.station == station, y_column]\n",
    "            .tail(TIMESTEP)\n",
    "            .astype(float)\n",
    "            .to_list()\n",
    "        )\n",
    "        \n",
    "        for i in enumerate(range(20)):\n",
    "            last_values = model.predict(\n",
    "                np.array(last_values).reshape(1, TIMESTEP, 1), \n",
    "                verbose=0\n",
    "            )\n",
    "            \n",
    "            preds += last_values.reshape(-1).tolist()\n",
    "        \n",
    "        dfs.append(\n",
    "            pd.DataFrame({\n",
    "                \"date\": pd.date_range(start=TEST_DATA_MIN_DATE, end=TEST_DATA_MAX_DATE, freq=\"15min\"),\n",
    "                \"station\": station,\n",
    "                f\"{y_column}\": preds,\n",
    "            })\n",
    "        )\n",
    "\n",
    "    print(f\"✅ Finished predicting `{y_column}` column.\")"
   ]
  },
  {
   "cell_type": "code",
   "execution_count": 17,
   "id": "23786af3",
   "metadata": {},
   "outputs": [
    {
     "data": {
      "text/html": [
       "<div>\n",
       "<style scoped>\n",
       "    .dataframe tbody tr th:only-of-type {\n",
       "        vertical-align: middle;\n",
       "    }\n",
       "\n",
       "    .dataframe tbody tr th {\n",
       "        vertical-align: top;\n",
       "    }\n",
       "\n",
       "    .dataframe thead th {\n",
       "        text-align: right;\n",
       "    }\n",
       "</style>\n",
       "<table border=\"1\" class=\"dataframe\">\n",
       "  <thead>\n",
       "    <tr style=\"text-align: right;\">\n",
       "      <th></th>\n",
       "      <th>date</th>\n",
       "      <th>station</th>\n",
       "      <th>available</th>\n",
       "      <th>charging</th>\n",
       "      <th>passive</th>\n",
       "    </tr>\n",
       "  </thead>\n",
       "  <tbody>\n",
       "    <tr>\n",
       "      <th>524155</th>\n",
       "      <td>2021-03-10 22:45:00</td>\n",
       "      <td>FR*V75*EBELI*4*1</td>\n",
       "      <td>NaN</td>\n",
       "      <td>NaN</td>\n",
       "      <td>0.225760</td>\n",
       "    </tr>\n",
       "    <tr>\n",
       "      <th>524156</th>\n",
       "      <td>2021-03-10 23:00:00</td>\n",
       "      <td>FR*V75*EBELI*4*1</td>\n",
       "      <td>NaN</td>\n",
       "      <td>NaN</td>\n",
       "      <td>0.225014</td>\n",
       "    </tr>\n",
       "    <tr>\n",
       "      <th>524157</th>\n",
       "      <td>2021-03-10 23:15:00</td>\n",
       "      <td>FR*V75*EBELI*4*1</td>\n",
       "      <td>NaN</td>\n",
       "      <td>NaN</td>\n",
       "      <td>0.223979</td>\n",
       "    </tr>\n",
       "    <tr>\n",
       "      <th>524158</th>\n",
       "      <td>2021-03-10 23:30:00</td>\n",
       "      <td>FR*V75*EBELI*4*1</td>\n",
       "      <td>NaN</td>\n",
       "      <td>NaN</td>\n",
       "      <td>0.222371</td>\n",
       "    </tr>\n",
       "    <tr>\n",
       "      <th>524159</th>\n",
       "      <td>2021-03-10 23:45:00</td>\n",
       "      <td>FR*V75*EBELI*4*1</td>\n",
       "      <td>NaN</td>\n",
       "      <td>NaN</td>\n",
       "      <td>0.223171</td>\n",
       "    </tr>\n",
       "  </tbody>\n",
       "</table>\n",
       "</div>"
      ],
      "text/plain": [
       "                      date           station  available  charging   passive\n",
       "524155 2021-03-10 22:45:00  FR*V75*EBELI*4*1        NaN       NaN  0.225760\n",
       "524156 2021-03-10 23:00:00  FR*V75*EBELI*4*1        NaN       NaN  0.225014\n",
       "524157 2021-03-10 23:15:00  FR*V75*EBELI*4*1        NaN       NaN  0.223979\n",
       "524158 2021-03-10 23:30:00  FR*V75*EBELI*4*1        NaN       NaN  0.222371\n",
       "524159 2021-03-10 23:45:00  FR*V75*EBELI*4*1        NaN       NaN  0.223171"
      ]
     },
     "execution_count": 17,
     "metadata": {},
     "output_type": "execute_result"
    }
   ],
   "source": [
    "df_preds = pd.concat(dfs, ignore_index=True)\n",
    "df_preds.tail()"
   ]
  },
  {
   "cell_type": "code",
   "execution_count": 18,
   "id": "c83f6f6e",
   "metadata": {},
   "outputs": [
    {
     "data": {
      "image/png": "[encoded data removed]",
      "text/plain": [
       "<Figure size 1000x500 with 1 Axes>"
      ]
     },
     "metadata": {},
     "output_type": "display_data"
    }
   ],
   "source": [
    "ax = (\n",
    "    df_preds\n",
    "    .head(1920)\n",
    "    .available\n",
    "    .plot()\n",
    ")\n",
    "\n",
    "ax.set_xlabel(\"Timeline\")\n",
    "ax.set_ylabel(\"Available plugs prediction\")\n",
    "ax.set_title(f\"Predictions\")\n",
    "\n",
    "plt.show()"
   ]
  },
  {
   "cell_type": "markdown",
   "id": "ebbf4b3d",
   "metadata": {},
   "source": [
    "## Process predictions"
   ]
  },
  {
   "cell_type": "code",
   "execution_count": 19,
   "id": "13aa834d",
   "metadata": {},
   "outputs": [
    {
     "name": "stderr",
     "output_type": "stream",
     "text": [
      "/tmp/ipykernel_10/312461518.py:15: FutureWarning: In a future version, `df.iloc[:, i] = newvals` will attempt to set the values inplace instead of always setting a new array. To retain the old behavior, use either `df[df.columns[i]] = newvals` or, if columns are non-unique, `df.isetitem(i, newvals)`\n",
      "  df_preds.loc[:, [\"available\", \"charging\", \"passive\"]] = (\n"
     ]
    },
    {
     "data": {
      "text/html": [
       "<div>\n",
       "<style scoped>\n",
       "    .dataframe tbody tr th:only-of-type {\n",
       "        vertical-align: middle;\n",
       "    }\n",
       "\n",
       "    .dataframe tbody tr th {\n",
       "        vertical-align: top;\n",
       "    }\n",
       "\n",
       "    .dataframe thead th {\n",
       "        text-align: right;\n",
       "    }\n",
       "</style>\n",
       "<table border=\"1\" class=\"dataframe\">\n",
       "  <thead>\n",
       "    <tr style=\"text-align: right;\">\n",
       "      <th></th>\n",
       "      <th>date</th>\n",
       "      <th>station</th>\n",
       "      <th>available</th>\n",
       "      <th>charging</th>\n",
       "      <th>passive</th>\n",
       "      <th>other</th>\n",
       "    </tr>\n",
       "  </thead>\n",
       "  <tbody>\n",
       "    <tr>\n",
       "      <th>174715</th>\n",
       "      <td>2021-03-10 22:45:00</td>\n",
       "      <td>FR*V75*EBELI*4*1</td>\n",
       "      <td>3</td>\n",
       "      <td>0</td>\n",
       "      <td>0</td>\n",
       "      <td>0</td>\n",
       "    </tr>\n",
       "    <tr>\n",
       "      <th>174716</th>\n",
       "      <td>2021-03-10 23:00:00</td>\n",
       "      <td>FR*V75*EBELI*4*1</td>\n",
       "      <td>3</td>\n",
       "      <td>0</td>\n",
       "      <td>0</td>\n",
       "      <td>0</td>\n",
       "    </tr>\n",
       "    <tr>\n",
       "      <th>174717</th>\n",
       "      <td>2021-03-10 23:15:00</td>\n",
       "      <td>FR*V75*EBELI*4*1</td>\n",
       "      <td>3</td>\n",
       "      <td>0</td>\n",
       "      <td>0</td>\n",
       "      <td>0</td>\n",
       "    </tr>\n",
       "    <tr>\n",
       "      <th>174718</th>\n",
       "      <td>2021-03-10 23:30:00</td>\n",
       "      <td>FR*V75*EBELI*4*1</td>\n",
       "      <td>3</td>\n",
       "      <td>0</td>\n",
       "      <td>0</td>\n",
       "      <td>0</td>\n",
       "    </tr>\n",
       "    <tr>\n",
       "      <th>174719</th>\n",
       "      <td>2021-03-10 23:45:00</td>\n",
       "      <td>FR*V75*EBELI*4*1</td>\n",
       "      <td>3</td>\n",
       "      <td>0</td>\n",
       "      <td>0</td>\n",
       "      <td>0</td>\n",
       "    </tr>\n",
       "  </tbody>\n",
       "</table>\n",
       "</div>"
      ],
      "text/plain": [
       "                      date           station  available  charging  passive  \\\n",
       "174715 2021-03-10 22:45:00  FR*V75*EBELI*4*1          3         0        0   \n",
       "174716 2021-03-10 23:00:00  FR*V75*EBELI*4*1          3         0        0   \n",
       "174717 2021-03-10 23:15:00  FR*V75*EBELI*4*1          3         0        0   \n",
       "174718 2021-03-10 23:30:00  FR*V75*EBELI*4*1          3         0        0   \n",
       "174719 2021-03-10 23:45:00  FR*V75*EBELI*4*1          3         0        0   \n",
       "\n",
       "        other  \n",
       "174715      0  \n",
       "174716      0  \n",
       "174717      0  \n",
       "174718      0  \n",
       "174719      0  "
      ]
     },
     "execution_count": 19,
     "metadata": {},
     "output_type": "execute_result"
    }
   ],
   "source": [
    "# put the predicted values on one row\n",
    "\n",
    "df_available = df_preds.loc[~df_preds.available.isna(), [\"date\", \"station\", \"available\"]]\n",
    "df_charging = df_preds.loc[~df_preds.charging.isna(), [\"date\", \"station\", \"charging\"]]\n",
    "df_passive = df_preds.loc[~df_preds.passive.isna(), [\"date\", \"station\", \"passive\"]]\n",
    "\n",
    "assert len(df_available) == len(df_charging) == len(df_passive)\n",
    "\n",
    "df_preds = (\n",
    "    df_available\n",
    "    .merge(df_charging)\n",
    "    .merge(df_passive)\n",
    ")\n",
    "\n",
    "df_preds.loc[:, [\"available\", \"charging\", \"passive\"]] = (\n",
    "    df_preds\n",
    "    .loc[:, [\"available\", \"charging\", \"passive\"]]\n",
    "    .clip(lower=0, upper=3)\n",
    "    .round()\n",
    "    .astype(int)\n",
    ")\n",
    "\n",
    "df_preds[\"other\"] = 0\n",
    "df_preds.tail()"
   ]
  },
  {
   "cell_type": "code",
   "execution_count": 20,
   "id": "1937ad27",
   "metadata": {},
   "outputs": [
    {
     "data": {
      "text/plain": [
       "3    97952\n",
       "2    41199\n",
       "4    31764\n",
       "1     2061\n",
       "5     1500\n",
       "0      199\n",
       "6       45\n",
       "Name: plugs_sum, dtype: int64"
      ]
     },
     "execution_count": 20,
     "metadata": {},
     "output_type": "execute_result"
    }
   ],
   "source": [
    "# get plugs sum\n",
    "\n",
    "df_preds[\"plugs_sum\"] = (\n",
    "    df_preds\n",
    "    .loc[:, [\"available\", \"charging\", \"passive\", \"other\"]]\n",
    "    .sum(axis=1)\n",
    ")\n",
    "\n",
    "df_preds.plugs_sum.value_counts()"
   ]
  },
  {
   "cell_type": "code",
   "execution_count": 21,
   "id": "90e0d0f9",
   "metadata": {},
   "outputs": [],
   "source": [
    "# add other column values\n",
    "\n",
    "df_preds[\"other\"] = (\n",
    "    df_preds\n",
    "    .other\n",
    "    .where(\n",
    "        df_preds.plugs_sum.ge(3),\n",
    "        df_preds.plugs_sum.mul(-1).add(3)\n",
    "    )\n",
    ")"
   ]
  },
  {
   "cell_type": "code",
   "execution_count": 22,
   "id": "aaa16bec",
   "metadata": {},
   "outputs": [
    {
     "data": {
      "text/plain": [
       "3-1-0    30206\n",
       "2-2-0      632\n",
       "3-0-1      588\n",
       "2-0-2      194\n",
       "2-1-1      144\n",
       "dtype: int64"
      ]
     },
     "execution_count": 22,
     "metadata": {},
     "output_type": "execute_result"
    }
   ],
   "source": [
    "# get rid of plugs_sum == 4 \n",
    "\n",
    "# check distributions\n",
    "(\n",
    "    df_preds\n",
    "    .loc[df_preds.plugs_sum == 4]\n",
    "    .apply(\n",
    "        lambda row: f\"{int(row['available'])}-{int(row['charging'])}-{int(row['passive'])}\",\n",
    "        axis=1\n",
    "    )\n",
    "    .value_counts()\n",
    ")"
   ]
  },
  {
   "cell_type": "code",
   "execution_count": 23,
   "id": "77d73f07",
   "metadata": {},
   "outputs": [],
   "source": [
    "# believe the most in `available` column model\n",
    "\n",
    "def get_rid_of_plugs_sum_4_charging(row: dict):\n",
    "    plugs_sum = row[\"plugs_sum\"]\n",
    "    available = row[\"available\"]\n",
    "    charging = row[\"charging\"]\n",
    "    \n",
    "    if plugs_sum != 4:\n",
    "        return charging\n",
    "    \n",
    "    if available == 3:\n",
    "        return 0\n",
    "    \n",
    "    if available == 2 and charging == 2:\n",
    "        return 1\n",
    "    \n",
    "    return charging\n",
    "    \n",
    "def get_rid_of_plugs_sum_4_passive(row: dict):\n",
    "    plugs_sum = row[\"plugs_sum\"]\n",
    "    available = row[\"available\"]\n",
    "    charging = row[\"charging\"]\n",
    "    passive = row[\"passive\"]\n",
    "    \n",
    "    if plugs_sum != 4:\n",
    "        return passive\n",
    "    \n",
    "    if available == 3:\n",
    "        return 0\n",
    "    \n",
    "    if available == 2 and passive == 2:\n",
    "        return 1\n",
    "    \n",
    "    if available == 2 and charging == 1:\n",
    "        return 0\n",
    "    \n",
    "    return passive\n",
    "\n",
    "df_preds[\"charging\"] = df_preds.apply(lambda row: get_rid_of_plugs_sum_4_charging(row), axis=1)\n",
    "df_preds[\"passive\"] = df_preds.apply(lambda row: get_rid_of_plugs_sum_4_passive(row), axis=1)"
   ]
  },
  {
   "cell_type": "code",
   "execution_count": 24,
   "id": "7f976e07",
   "metadata": {},
   "outputs": [
    {
     "data": {
      "text/plain": [
       "3    173175\n",
       "5      1500\n",
       "6        45\n",
       "Name: plugs_sum, dtype: int64"
      ]
     },
     "execution_count": 24,
     "metadata": {},
     "output_type": "execute_result"
    }
   ],
   "source": [
    "# get plugs sum\n",
    "\n",
    "df_preds[\"plugs_sum\"] = (\n",
    "    df_preds\n",
    "    .loc[:, [\"available\", \"charging\", \"passive\", \"other\"]]\n",
    "    .sum(axis=1)\n",
    ")\n",
    "\n",
    "df_preds.plugs_sum.value_counts()"
   ]
  },
  {
   "cell_type": "code",
   "execution_count": 25,
   "id": "c7a9d86a",
   "metadata": {},
   "outputs": [
    {
     "data": {
      "text/plain": [
       "3-2-0    1221\n",
       "3-0-2     148\n",
       "3-1-1     113\n",
       "2-1-2      12\n",
       "2-3-0       6\n",
       "dtype: int64"
      ]
     },
     "execution_count": 25,
     "metadata": {},
     "output_type": "execute_result"
    }
   ],
   "source": [
    "# get rid of plugs_sum == 5 \n",
    "\n",
    "# check distributions\n",
    "(\n",
    "    df_preds\n",
    "    .loc[df_preds.plugs_sum == 5]\n",
    "    .apply(\n",
    "        lambda row: f\"{int(row['available'])}-{int(row['charging'])}-{int(row['passive'])}\",\n",
    "        axis=1\n",
    "    )\n",
    "    .value_counts()\n",
    ")"
   ]
  },
  {
   "cell_type": "code",
   "execution_count": 26,
   "id": "7fb99c00",
   "metadata": {},
   "outputs": [],
   "source": [
    "# believe the most in `available` column model\n",
    "\n",
    "def get_rid_of_plugs_sum_5_charging(row: dict):\n",
    "    plugs_sum = row[\"plugs_sum\"]\n",
    "    available = row[\"available\"]\n",
    "    charging = row[\"charging\"]\n",
    "    \n",
    "    if plugs_sum != 5:\n",
    "        return charging\n",
    "    \n",
    "    if available == 3:\n",
    "        return 0\n",
    "    \n",
    "    if available == 2 and charging == 3:\n",
    "        return 1\n",
    "    \n",
    "    return charging\n",
    "    \n",
    "def get_rid_of_plugs_sum_5_passive(row: dict):\n",
    "    plugs_sum = row[\"plugs_sum\"]\n",
    "    available = row[\"available\"]\n",
    "    charging = row[\"charging\"]\n",
    "    passive = row[\"passive\"]\n",
    "    \n",
    "    if plugs_sum != 5:\n",
    "        return passive\n",
    "    \n",
    "    if available == 3:\n",
    "        return 0\n",
    "    \n",
    "    if available == 2 and charging == 1:\n",
    "        return 0\n",
    "    \n",
    "    return passive\n",
    "\n",
    "df_preds[\"charging\"] = df_preds.apply(lambda row: get_rid_of_plugs_sum_5_charging(row), axis=1)\n",
    "df_preds[\"passive\"] = df_preds.apply(lambda row: get_rid_of_plugs_sum_5_passive(row), axis=1)"
   ]
  },
  {
   "cell_type": "code",
   "execution_count": 27,
   "id": "ed2fa7dc",
   "metadata": {},
   "outputs": [
    {
     "data": {
      "text/plain": [
       "3    174675\n",
       "6        45\n",
       "Name: plugs_sum, dtype: int64"
      ]
     },
     "execution_count": 27,
     "metadata": {},
     "output_type": "execute_result"
    }
   ],
   "source": [
    "# get plugs sum\n",
    "\n",
    "df_preds[\"plugs_sum\"] = (\n",
    "    df_preds\n",
    "    .loc[:, [\"available\", \"charging\", \"passive\", \"other\"]]\n",
    "    .sum(axis=1)\n",
    ")\n",
    "\n",
    "df_preds.plugs_sum.value_counts()"
   ]
  },
  {
   "cell_type": "code",
   "execution_count": 28,
   "id": "307d3d63",
   "metadata": {},
   "outputs": [
    {
     "data": {
      "text/plain": [
       "3-1-2    28\n",
       "3-2-1    10\n",
       "3-3-0     7\n",
       "dtype: int64"
      ]
     },
     "execution_count": 28,
     "metadata": {},
     "output_type": "execute_result"
    }
   ],
   "source": [
    "# get rid of plugs_sum == 6\n",
    "\n",
    "# check distributions\n",
    "(\n",
    "    df_preds\n",
    "    .loc[df_preds.plugs_sum == 6]\n",
    "    .apply(\n",
    "        lambda row: f\"{int(row['available'])}-{int(row['charging'])}-{int(row['passive'])}\",\n",
    "        axis=1\n",
    "    )\n",
    "    .value_counts()\n",
    ")"
   ]
  },
  {
   "cell_type": "code",
   "execution_count": 29,
   "id": "635ee7dc",
   "metadata": {},
   "outputs": [],
   "source": [
    "df_preds.loc[df_preds.plugs_sum == 6, \"charging\"] = 0\n",
    "df_preds.loc[df_preds.plugs_sum == 6, \"passive\"] = 0"
   ]
  },
  {
   "cell_type": "code",
   "execution_count": 30,
   "id": "de036475",
   "metadata": {},
   "outputs": [
    {
     "data": {
      "text/plain": [
       "3    174720\n",
       "Name: plugs_sum, dtype: int64"
      ]
     },
     "execution_count": 30,
     "metadata": {},
     "output_type": "execute_result"
    }
   ],
   "source": [
    "# get plugs sum\n",
    "\n",
    "df_preds[\"plugs_sum\"] = (\n",
    "    df_preds\n",
    "    .loc[:, [\"available\", \"charging\", \"passive\", \"other\"]]\n",
    "    .sum(axis=1)\n",
    ")\n",
    "\n",
    "df_preds.plugs_sum.value_counts()"
   ]
  },
  {
   "cell_type": "markdown",
   "id": "001d51de",
   "metadata": {},
   "source": [
    "## Create submission"
   ]
  },
  {
   "cell_type": "code",
   "execution_count": 31,
   "id": "da976e5e",
   "metadata": {},
   "outputs": [
    {
     "data": {
      "text/html": [
       "<div>\n",
       "<style scoped>\n",
       "    .dataframe tbody tr th:only-of-type {\n",
       "        vertical-align: middle;\n",
       "    }\n",
       "\n",
       "    .dataframe tbody tr th {\n",
       "        vertical-align: top;\n",
       "    }\n",
       "\n",
       "    .dataframe thead th {\n",
       "        text-align: right;\n",
       "    }\n",
       "</style>\n",
       "<table border=\"1\" class=\"dataframe\">\n",
       "  <thead>\n",
       "    <tr style=\"text-align: right;\">\n",
       "      <th></th>\n",
       "      <th>date</th>\n",
       "      <th>Station</th>\n",
       "      <th>tod</th>\n",
       "      <th>dow</th>\n",
       "      <th>trend</th>\n",
       "      <th>Latitude</th>\n",
       "      <th>Longitude</th>\n",
       "      <th>Postcode</th>\n",
       "      <th>area</th>\n",
       "    </tr>\n",
       "  </thead>\n",
       "  <tbody>\n",
       "    <tr>\n",
       "      <th>165979</th>\n",
       "      <td>2021-03-10 23:45:00</td>\n",
       "      <td>FR*V75*EBELI*95*1</td>\n",
       "      <td>95</td>\n",
       "      <td>4</td>\n",
       "      <td>24122</td>\n",
       "      <td>48.86851</td>\n",
       "      <td>2.295469</td>\n",
       "      <td>75016</td>\n",
       "      <td>west</td>\n",
       "    </tr>\n",
       "    <tr>\n",
       "      <th>165980</th>\n",
       "      <td>2021-03-10 23:45:00</td>\n",
       "      <td>FR*V75*EBELI*96*1</td>\n",
       "      <td>95</td>\n",
       "      <td>4</td>\n",
       "      <td>24122</td>\n",
       "      <td>48.83550</td>\n",
       "      <td>2.349650</td>\n",
       "      <td>75013</td>\n",
       "      <td>south</td>\n",
       "    </tr>\n",
       "    <tr>\n",
       "      <th>165981</th>\n",
       "      <td>2021-03-10 23:45:00</td>\n",
       "      <td>FR*V75*EBELI*97*1</td>\n",
       "      <td>95</td>\n",
       "      <td>4</td>\n",
       "      <td>24122</td>\n",
       "      <td>48.83995</td>\n",
       "      <td>2.397822</td>\n",
       "      <td>75012</td>\n",
       "      <td>east</td>\n",
       "    </tr>\n",
       "    <tr>\n",
       "      <th>165982</th>\n",
       "      <td>2021-03-10 23:45:00</td>\n",
       "      <td>FR*V75*EBELI*98*1</td>\n",
       "      <td>95</td>\n",
       "      <td>4</td>\n",
       "      <td>24122</td>\n",
       "      <td>48.84998</td>\n",
       "      <td>2.361920</td>\n",
       "      <td>75004</td>\n",
       "      <td>south</td>\n",
       "    </tr>\n",
       "    <tr>\n",
       "      <th>165983</th>\n",
       "      <td>2021-03-10 23:45:00</td>\n",
       "      <td>FR*V75*EBELI*99*1</td>\n",
       "      <td>95</td>\n",
       "      <td>4</td>\n",
       "      <td>24122</td>\n",
       "      <td>48.87780</td>\n",
       "      <td>2.391820</td>\n",
       "      <td>75019</td>\n",
       "      <td>east</td>\n",
       "    </tr>\n",
       "  </tbody>\n",
       "</table>\n",
       "</div>"
      ],
      "text/plain": [
       "                       date            Station  tod  dow  trend  Latitude  \\\n",
       "165979  2021-03-10 23:45:00  FR*V75*EBELI*95*1   95    4  24122  48.86851   \n",
       "165980  2021-03-10 23:45:00  FR*V75*EBELI*96*1   95    4  24122  48.83550   \n",
       "165981  2021-03-10 23:45:00  FR*V75*EBELI*97*1   95    4  24122  48.83995   \n",
       "165982  2021-03-10 23:45:00  FR*V75*EBELI*98*1   95    4  24122  48.84998   \n",
       "165983  2021-03-10 23:45:00  FR*V75*EBELI*99*1   95    4  24122  48.87780   \n",
       "\n",
       "        Longitude  Postcode   area  \n",
       "165979   2.295469     75016   west  \n",
       "165980   2.349650     75013  south  \n",
       "165981   2.397822     75012   east  \n",
       "165982   2.361920     75004  south  \n",
       "165983   2.391820     75019   east  "
      ]
     },
     "execution_count": 31,
     "metadata": {},
     "output_type": "execute_result"
    }
   ],
   "source": [
    "df_test = pd.read_csv(os.path.join(DATA_FOLDER, \"test.csv\"))\n",
    "df_test.tail()"
   ]
  },
  {
   "cell_type": "code",
   "execution_count": 32,
   "id": "4e11c613",
   "metadata": {},
   "outputs": [
    {
     "data": {
      "text/html": [
       "<div>\n",
       "<style scoped>\n",
       "    .dataframe tbody tr th:only-of-type {\n",
       "        vertical-align: middle;\n",
       "    }\n",
       "\n",
       "    .dataframe tbody tr th {\n",
       "        vertical-align: top;\n",
       "    }\n",
       "\n",
       "    .dataframe thead th {\n",
       "        text-align: right;\n",
       "    }\n",
       "</style>\n",
       "<table border=\"1\" class=\"dataframe\">\n",
       "  <thead>\n",
       "    <tr style=\"text-align: right;\">\n",
       "      <th></th>\n",
       "      <th>date</th>\n",
       "      <th>Station</th>\n",
       "      <th>tod</th>\n",
       "      <th>dow</th>\n",
       "      <th>trend</th>\n",
       "      <th>Latitude</th>\n",
       "      <th>Longitude</th>\n",
       "      <th>Postcode</th>\n",
       "      <th>area</th>\n",
       "      <th>Available</th>\n",
       "      <th>Charging</th>\n",
       "      <th>Passive</th>\n",
       "      <th>Other</th>\n",
       "    </tr>\n",
       "  </thead>\n",
       "  <tbody>\n",
       "    <tr>\n",
       "      <th>165979</th>\n",
       "      <td>2021-03-10 23:45:00</td>\n",
       "      <td>FR*V75*EBELI*95*1</td>\n",
       "      <td>95</td>\n",
       "      <td>4</td>\n",
       "      <td>24122</td>\n",
       "      <td>48.86851</td>\n",
       "      <td>2.295469</td>\n",
       "      <td>75016</td>\n",
       "      <td>west</td>\n",
       "      <td>2</td>\n",
       "      <td>0</td>\n",
       "      <td>0</td>\n",
       "      <td>1</td>\n",
       "    </tr>\n",
       "    <tr>\n",
       "      <th>165980</th>\n",
       "      <td>2021-03-10 23:45:00</td>\n",
       "      <td>FR*V75*EBELI*96*1</td>\n",
       "      <td>95</td>\n",
       "      <td>4</td>\n",
       "      <td>24122</td>\n",
       "      <td>48.83550</td>\n",
       "      <td>2.349650</td>\n",
       "      <td>75013</td>\n",
       "      <td>south</td>\n",
       "      <td>3</td>\n",
       "      <td>0</td>\n",
       "      <td>0</td>\n",
       "      <td>0</td>\n",
       "    </tr>\n",
       "    <tr>\n",
       "      <th>165981</th>\n",
       "      <td>2021-03-10 23:45:00</td>\n",
       "      <td>FR*V75*EBELI*97*1</td>\n",
       "      <td>95</td>\n",
       "      <td>4</td>\n",
       "      <td>24122</td>\n",
       "      <td>48.83995</td>\n",
       "      <td>2.397822</td>\n",
       "      <td>75012</td>\n",
       "      <td>east</td>\n",
       "      <td>2</td>\n",
       "      <td>0</td>\n",
       "      <td>0</td>\n",
       "      <td>1</td>\n",
       "    </tr>\n",
       "    <tr>\n",
       "      <th>165982</th>\n",
       "      <td>2021-03-10 23:45:00</td>\n",
       "      <td>FR*V75*EBELI*98*1</td>\n",
       "      <td>95</td>\n",
       "      <td>4</td>\n",
       "      <td>24122</td>\n",
       "      <td>48.84998</td>\n",
       "      <td>2.361920</td>\n",
       "      <td>75004</td>\n",
       "      <td>south</td>\n",
       "      <td>2</td>\n",
       "      <td>0</td>\n",
       "      <td>0</td>\n",
       "      <td>1</td>\n",
       "    </tr>\n",
       "    <tr>\n",
       "      <th>165983</th>\n",
       "      <td>2021-03-10 23:45:00</td>\n",
       "      <td>FR*V75*EBELI*99*1</td>\n",
       "      <td>95</td>\n",
       "      <td>4</td>\n",
       "      <td>24122</td>\n",
       "      <td>48.87780</td>\n",
       "      <td>2.391820</td>\n",
       "      <td>75019</td>\n",
       "      <td>east</td>\n",
       "      <td>2</td>\n",
       "      <td>0</td>\n",
       "      <td>0</td>\n",
       "      <td>1</td>\n",
       "    </tr>\n",
       "  </tbody>\n",
       "</table>\n",
       "</div>"
      ],
      "text/plain": [
       "                       date            Station  tod  dow  trend  Latitude  \\\n",
       "165979  2021-03-10 23:45:00  FR*V75*EBELI*95*1   95    4  24122  48.86851   \n",
       "165980  2021-03-10 23:45:00  FR*V75*EBELI*96*1   95    4  24122  48.83550   \n",
       "165981  2021-03-10 23:45:00  FR*V75*EBELI*97*1   95    4  24122  48.83995   \n",
       "165982  2021-03-10 23:45:00  FR*V75*EBELI*98*1   95    4  24122  48.84998   \n",
       "165983  2021-03-10 23:45:00  FR*V75*EBELI*99*1   95    4  24122  48.87780   \n",
       "\n",
       "        Longitude  Postcode   area  Available  Charging  Passive  Other  \n",
       "165979   2.295469     75016   west          2         0        0      1  \n",
       "165980   2.349650     75013  south          3         0        0      0  \n",
       "165981   2.397822     75012   east          2         0        0      1  \n",
       "165982   2.361920     75004  south          2         0        0      1  \n",
       "165983   2.391820     75019   east          2         0        0      1  "
      ]
     },
     "execution_count": 32,
     "metadata": {},
     "output_type": "execute_result"
    }
   ],
   "source": [
    "# join preds on test data\n",
    "\n",
    "df_preds[\"date\"] = df_preds.date.astype(str)\n",
    "\n",
    "df_test = (\n",
    "    df_test\n",
    "    .merge(\n",
    "        df_preds, \n",
    "        how=\"left\",\n",
    "        left_on=[\"date\", \"Station\"],\n",
    "        right_on=[\"date\", \"station\"],\n",
    "    )\n",
    "    .rename(\n",
    "        {\n",
    "            \"available\": \"Available\", \n",
    "            \"charging\": \"Charging\", \n",
    "            \"passive\": \"Passive\", \n",
    "            \"other\": \"Other\",\n",
    "        }, \n",
    "        axis=1\n",
    "    )\n",
    "    .drop([\"station\", \"plugs_sum\"], axis=1)\n",
    ")\n",
    "\n",
    "df_test.tail()"
   ]
  },
  {
   "cell_type": "code",
   "execution_count": 33,
   "id": "29a1271e",
   "metadata": {},
   "outputs": [
    {
     "data": {
      "text/plain": [
       "date          object\n",
       "Station       object\n",
       "tod            int64\n",
       "dow            int64\n",
       "trend          int64\n",
       "Latitude     float64\n",
       "Longitude    float64\n",
       "Postcode       int64\n",
       "area          object\n",
       "Available      int64\n",
       "Charging       int64\n",
       "Passive        int64\n",
       "Other          int64\n",
       "dtype: object"
      ]
     },
     "execution_count": 33,
     "metadata": {},
     "output_type": "execute_result"
    }
   ],
   "source": [
    "df_test.dtypes"
   ]
  },
  {
   "cell_type": "code",
   "execution_count": 34,
   "id": "7cdb5a69",
   "metadata": {},
   "outputs": [],
   "source": [
    "# convert data in the right format\n",
    "\n",
    "df_test[\"date\"] = pd.to_datetime(df_test[\"date\"])\n",
    "df_test[\"Postcode\"] = df_test[\"Postcode\"].astype(str)"
   ]
  },
  {
   "cell_type": "code",
   "execution_count": 35,
   "id": "3fd6e143",
   "metadata": {},
   "outputs": [],
   "source": [
    "# create CSV on station level\n",
    "\n",
    "(\n",
    "    df_test\n",
    "    .loc[:, [\"date\", \"area\", \"Station\"] + TARGETS]\n",
    "    .to_csv(os.path.join(SUBMISSIONS_FOLDER, \"station.csv\"), index=False)\n",
    ")"
   ]
  },
  {
   "cell_type": "code",
   "execution_count": 36,
   "id": "8f27cb08",
   "metadata": {},
   "outputs": [],
   "source": [
    "# create CSV on area level\n",
    "\n",
    "(\n",
    "    df_test\n",
    "    .groupby([\"date\", \"area\"])[TARGETS]\n",
    "    .sum()\n",
    "    .reset_index()\n",
    "    .to_csv(os.path.join(SUBMISSIONS_FOLDER, \"area.csv\"), index=False)\n",
    ")"
   ]
  },
  {
   "cell_type": "code",
   "execution_count": 37,
   "id": "8dc3e7fc",
   "metadata": {},
   "outputs": [],
   "source": [
    "# create CSV on area level\n",
    "\n",
    "(\n",
    "    df_test\n",
    "    .groupby([\"date\"])[TARGETS]\n",
    "    .sum()\n",
    "    .reset_index()\n",
    "    .to_csv(os.path.join(SUBMISSIONS_FOLDER, \"global.csv\"), index=False)\n",
    ")"
   ]
  },
  {
   "cell_type": "code",
   "execution_count": 39,
   "id": "c75db92c",
   "metadata": {},
   "outputs": [
    {
     "data": {
      "text/plain": [
       "'/usr/src/app/data/20221128141653_submissions.zip'"
      ]
     },
     "execution_count": 39,
     "metadata": {},
     "output_type": "execute_result"
    }
   ],
   "source": [
    "# add CSV files into ZIP archive \n",
    "\n",
    "dt_now = datetime.datetime.now().strftime(\"%Y%m%d%H%M%S\")\n",
    "\n",
    "shutil.make_archive(\n",
    "    base_name=f\"/usr/src/app/data/{dt_now}_submissions\", \n",
    "    format=\"zip\", \n",
    "    root_dir=\"/usr/src/app/data/submissions/\"\n",
    ")"
   ]
  },
  {
   "cell_type": "markdown",
   "id": "3a2fc715",
   "metadata": {},
   "source": [
    "## Results\n",
    "\n",
    "- Predictions have been found, and submission files were created."
   ]
  }
 ],
 "metadata": {
  "kernelspec": {
   "display_name": "Python 3 (ipykernel)",
   "language": "python",
   "name": "python3"
  },
  "language_info": {
   "codemirror_mode": {
    "name": "ipython",
    "version": 3
   },
   "file_extension": ".py",
   "mimetype": "text/x-python",
   "name": "python",
   "nbconvert_exporter": "python",
   "pygments_lexer": "ipython3",
   "version": "3.8.12"
  }
 },
 "nbformat": 4,
 "nbformat_minor": 5
}

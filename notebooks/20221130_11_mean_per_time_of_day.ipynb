{
 "cells": [
  {
   "cell_type": "markdown",
   "id": "6bd7c431",
   "metadata": {},
   "source": [
    "## In this notebook\n",
    "\n",
    "- Get predictions based on means per station and tod, and create data for submission."
   ]
  },
  {
   "cell_type": "code",
   "execution_count": 1,
   "id": "fb76e3a2",
   "metadata": {},
   "outputs": [
    {
     "name": "stderr",
     "output_type": "stream",
     "text": [
      "/opt/venv/lib/python3.8/site-packages/tensorflow_io/python/ops/__init__.py:98: UserWarning: unable to load libtensorflow_io_plugins.so: unable to open file: libtensorflow_io_plugins.so, from paths: ['/opt/venv/lib/python3.8/site-packages/tensorflow_io/python/ops/libtensorflow_io_plugins.so']\n",
      "caused by: [\"[Errno 2] The file to load file system plugin from does not exist.: '/opt/venv/lib/python3.8/site-packages/tensorflow_io/python/ops/libtensorflow_io_plugins.so'\"]\n",
      "  warnings.warn(f\"unable to load libtensorflow_io_plugins.so: {e}\")\n",
      "/opt/venv/lib/python3.8/site-packages/tensorflow_io/python/ops/__init__.py:104: UserWarning: file system plugins are not loaded: unable to open file: libtensorflow_io.so, from paths: ['/opt/venv/lib/python3.8/site-packages/tensorflow_io/python/ops/libtensorflow_io.so']\n",
      "caused by: ['/opt/venv/lib/python3.8/site-packages/tensorflow_io/python/ops/libtensorflow_io.so: cannot open shared object file: No such file or directory']\n",
      "  warnings.warn(f\"file system plugins are not loaded: {e}\")\n"
     ]
    }
   ],
   "source": [
    "import os\n",
    "import json\n",
    "import shutil\n",
    "import datetime\n",
    "\n",
    "# analytics\n",
    "import pandas as pd\n",
    "pd.set_option('display.max_rows', 100)\n",
    "pd.set_option('display.max_columns', 100)\n",
    "import numpy as np\n",
    "\n",
    "# model\n",
    "from tensorflow import keras\n",
    "from keras.models import load_model\n",
    "\n",
    "# plot\n",
    "import matplotlib\n",
    "import matplotlib.pyplot as plt\n",
    "import seaborn as sns\n",
    "sns.set()"
   ]
  },
  {
   "cell_type": "code",
   "execution_count": 2,
   "id": "9b8965ad",
   "metadata": {},
   "outputs": [],
   "source": [
    "%matplotlib inline\n",
    "plt.rcParams['figure.figsize'] = [10, 5]"
   ]
  },
  {
   "cell_type": "code",
   "execution_count": 3,
   "id": "b659b234",
   "metadata": {},
   "outputs": [],
   "source": [
    "DATA_FOLDER = \"../data\"\n",
    "\n",
    "TIMESTEP = 96\n",
    "TEST_DATA_DAYS_CNT = 19\n",
    "TEST_DATA_MIN_DATE = \"2021-02-19 00:00:00\"\n",
    "TEST_DATA_MAX_DATE = \"2021-03-10 23:45:00\"\n",
    "\n",
    "TARGETS = [\"Available\", \"Charging\", \"Passive\", \"Other\"]\n",
    "SUBMISSIONS_FOLDER = \"../data/submissions/\""
   ]
  },
  {
   "cell_type": "code",
   "execution_count": 4,
   "id": "1cfe2fd8",
   "metadata": {
    "scrolled": true
   },
   "outputs": [
    {
     "name": "stdout",
     "output_type": "stream",
     "text": [
      "total 184816\r\n",
      "-rw-r--r-- 1 nobody nogroup    570468 Nov 28 10:44 20221128104433_submissions.zip\r\n",
      "-rw-r--r-- 1 nobody nogroup    562307 Nov 28 14:03 20221128140318_submissions.zip\r\n",
      "-rw-r--r-- 1 nobody nogroup    562307 Nov 28 14:16 20221128141653_submissions.zip\r\n",
      "-rw-r--r-- 1 nobody nogroup    579606 Nov 29 21:26 20221129212605_submissions.zip\r\n",
      "-rw-r--r-- 1 nobody nogroup    530021 Nov 29 21:45 20221129214542_submissions.zip\r\n",
      "-rw-r--r-- 1 nobody nogroup    576681 Nov 30 20:46 20221130204613_submissions.zip\r\n",
      "drwxr-xr-x 6 nobody nogroup       192 Nov 29 08:39 predictions\r\n",
      "drwxr-xr-x 5 nobody nogroup       160 Nov 28 10:06 submissions\r\n",
      "-rw-rw-r-- 1 nobody nogroup  14095077 Aug  4 08:41 test.csv\r\n",
      "-rw-rw-r-- 1 nobody nogroup 171754453 Aug  4 08:41 train.csv\r\n"
     ]
    }
   ],
   "source": [
    "! ls -l $DATA_FOLDER"
   ]
  },
  {
   "cell_type": "markdown",
   "id": "702f2abb",
   "metadata": {},
   "source": [
    "## Load data"
   ]
  },
  {
   "cell_type": "code",
   "execution_count": 5,
   "id": "4a917206",
   "metadata": {},
   "outputs": [
    {
     "data": {
      "text/html": [
       "<div>\n",
       "<style scoped>\n",
       "    .dataframe tbody tr th:only-of-type {\n",
       "        vertical-align: middle;\n",
       "    }\n",
       "\n",
       "    .dataframe tbody tr th {\n",
       "        vertical-align: top;\n",
       "    }\n",
       "\n",
       "    .dataframe thead th {\n",
       "        text-align: right;\n",
       "    }\n",
       "</style>\n",
       "<table border=\"1\" class=\"dataframe\">\n",
       "  <thead>\n",
       "    <tr style=\"text-align: right;\">\n",
       "      <th></th>\n",
       "      <th>date</th>\n",
       "      <th>station</th>\n",
       "      <th>available</th>\n",
       "      <th>charging</th>\n",
       "      <th>passive</th>\n",
       "      <th>other</th>\n",
       "      <th>tod</th>\n",
       "      <th>dow</th>\n",
       "      <th>trend</th>\n",
       "      <th>latitude</th>\n",
       "      <th>longitude</th>\n",
       "      <th>postcode</th>\n",
       "      <th>area</th>\n",
       "    </tr>\n",
       "  </thead>\n",
       "  <tbody>\n",
       "    <tr>\n",
       "      <th>1851078</th>\n",
       "      <td>2021-02-18 23:45:00</td>\n",
       "      <td>FR*V75*EBELI*32*1</td>\n",
       "      <td>3</td>\n",
       "      <td>0</td>\n",
       "      <td>0</td>\n",
       "      <td>0</td>\n",
       "      <td>95</td>\n",
       "      <td>5</td>\n",
       "      <td>22202</td>\n",
       "      <td>48.84477</td>\n",
       "      <td>2.352420</td>\n",
       "      <td>75005</td>\n",
       "      <td>south</td>\n",
       "    </tr>\n",
       "    <tr>\n",
       "      <th>1851079</th>\n",
       "      <td>2021-02-18 23:45:00</td>\n",
       "      <td>FR*V75*EBELI*31*1</td>\n",
       "      <td>2</td>\n",
       "      <td>1</td>\n",
       "      <td>0</td>\n",
       "      <td>0</td>\n",
       "      <td>95</td>\n",
       "      <td>5</td>\n",
       "      <td>22202</td>\n",
       "      <td>48.85104</td>\n",
       "      <td>2.345493</td>\n",
       "      <td>75005</td>\n",
       "      <td>south</td>\n",
       "    </tr>\n",
       "    <tr>\n",
       "      <th>1851080</th>\n",
       "      <td>2021-02-18 23:45:00</td>\n",
       "      <td>FR*V75*EBELI*30*1</td>\n",
       "      <td>2</td>\n",
       "      <td>0</td>\n",
       "      <td>1</td>\n",
       "      <td>0</td>\n",
       "      <td>95</td>\n",
       "      <td>5</td>\n",
       "      <td>22202</td>\n",
       "      <td>48.84571</td>\n",
       "      <td>2.345032</td>\n",
       "      <td>75005</td>\n",
       "      <td>south</td>\n",
       "    </tr>\n",
       "    <tr>\n",
       "      <th>1851081</th>\n",
       "      <td>2021-02-18 23:45:00</td>\n",
       "      <td>FR*V75*EBELI*39*1</td>\n",
       "      <td>1</td>\n",
       "      <td>0</td>\n",
       "      <td>1</td>\n",
       "      <td>1</td>\n",
       "      <td>95</td>\n",
       "      <td>5</td>\n",
       "      <td>22202</td>\n",
       "      <td>48.85267</td>\n",
       "      <td>2.313680</td>\n",
       "      <td>75007</td>\n",
       "      <td>west</td>\n",
       "    </tr>\n",
       "    <tr>\n",
       "      <th>1851082</th>\n",
       "      <td>2021-02-18 23:45:00</td>\n",
       "      <td>FR*V75*EBELI*99*1</td>\n",
       "      <td>3</td>\n",
       "      <td>0</td>\n",
       "      <td>0</td>\n",
       "      <td>0</td>\n",
       "      <td>95</td>\n",
       "      <td>5</td>\n",
       "      <td>22202</td>\n",
       "      <td>48.87780</td>\n",
       "      <td>2.391820</td>\n",
       "      <td>75019</td>\n",
       "      <td>east</td>\n",
       "    </tr>\n",
       "  </tbody>\n",
       "</table>\n",
       "</div>"
      ],
      "text/plain": [
       "                        date            station  available  charging  passive  \\\n",
       "1851078  2021-02-18 23:45:00  FR*V75*EBELI*32*1          3         0        0   \n",
       "1851079  2021-02-18 23:45:00  FR*V75*EBELI*31*1          2         1        0   \n",
       "1851080  2021-02-18 23:45:00  FR*V75*EBELI*30*1          2         0        1   \n",
       "1851081  2021-02-18 23:45:00  FR*V75*EBELI*39*1          1         0        1   \n",
       "1851082  2021-02-18 23:45:00  FR*V75*EBELI*99*1          3         0        0   \n",
       "\n",
       "         other  tod  dow  trend  latitude  longitude  postcode   area  \n",
       "1851078      0   95    5  22202  48.84477   2.352420     75005  south  \n",
       "1851079      0   95    5  22202  48.85104   2.345493     75005  south  \n",
       "1851080      0   95    5  22202  48.84571   2.345032     75005  south  \n",
       "1851081      1   95    5  22202  48.85267   2.313680     75007   west  \n",
       "1851082      0   95    5  22202  48.87780   2.391820     75019   east  "
      ]
     },
     "execution_count": 5,
     "metadata": {},
     "output_type": "execute_result"
    }
   ],
   "source": [
    "# load train data\n",
    "\n",
    "df = pd.read_csv(os.path.join(DATA_FOLDER, \"train.csv\"))\n",
    "df.columns = [col.lower() for col in df.columns]\n",
    "df = df.sort_values(by=\"date\").reset_index(drop=True)\n",
    "\n",
    "df.tail()"
   ]
  },
  {
   "cell_type": "code",
   "execution_count": 6,
   "id": "8977ed52",
   "metadata": {},
   "outputs": [],
   "source": [
    "# train models\n",
    "\n",
    "models = {}\n",
    "\n",
    "df[\"station-tod\"] = df.station + \"-\" + df.tod.astype(str)\n",
    "\n",
    "for y_col in [tar.lower() for tar in TARGETS]:\n",
    "    models[y_col] = (\n",
    "        df\n",
    "        .groupby([\"station-tod\"])[y_col]\n",
    "        .mean()\n",
    "        .to_dict()\n",
    "    )"
   ]
  },
  {
   "cell_type": "markdown",
   "id": "001d51de",
   "metadata": {},
   "source": [
    "## Create predictions"
   ]
  },
  {
   "cell_type": "code",
   "execution_count": 7,
   "id": "da976e5e",
   "metadata": {},
   "outputs": [
    {
     "data": {
      "text/html": [
       "<div>\n",
       "<style scoped>\n",
       "    .dataframe tbody tr th:only-of-type {\n",
       "        vertical-align: middle;\n",
       "    }\n",
       "\n",
       "    .dataframe tbody tr th {\n",
       "        vertical-align: top;\n",
       "    }\n",
       "\n",
       "    .dataframe thead th {\n",
       "        text-align: right;\n",
       "    }\n",
       "</style>\n",
       "<table border=\"1\" class=\"dataframe\">\n",
       "  <thead>\n",
       "    <tr style=\"text-align: right;\">\n",
       "      <th></th>\n",
       "      <th>date</th>\n",
       "      <th>Station</th>\n",
       "      <th>tod</th>\n",
       "      <th>dow</th>\n",
       "      <th>trend</th>\n",
       "      <th>Latitude</th>\n",
       "      <th>Longitude</th>\n",
       "      <th>Postcode</th>\n",
       "      <th>area</th>\n",
       "    </tr>\n",
       "  </thead>\n",
       "  <tbody>\n",
       "    <tr>\n",
       "      <th>165979</th>\n",
       "      <td>2021-03-10 23:45:00</td>\n",
       "      <td>FR*V75*EBELI*95*1</td>\n",
       "      <td>95</td>\n",
       "      <td>4</td>\n",
       "      <td>24122</td>\n",
       "      <td>48.86851</td>\n",
       "      <td>2.295469</td>\n",
       "      <td>75016</td>\n",
       "      <td>west</td>\n",
       "    </tr>\n",
       "    <tr>\n",
       "      <th>165980</th>\n",
       "      <td>2021-03-10 23:45:00</td>\n",
       "      <td>FR*V75*EBELI*96*1</td>\n",
       "      <td>95</td>\n",
       "      <td>4</td>\n",
       "      <td>24122</td>\n",
       "      <td>48.83550</td>\n",
       "      <td>2.349650</td>\n",
       "      <td>75013</td>\n",
       "      <td>south</td>\n",
       "    </tr>\n",
       "    <tr>\n",
       "      <th>165981</th>\n",
       "      <td>2021-03-10 23:45:00</td>\n",
       "      <td>FR*V75*EBELI*97*1</td>\n",
       "      <td>95</td>\n",
       "      <td>4</td>\n",
       "      <td>24122</td>\n",
       "      <td>48.83995</td>\n",
       "      <td>2.397822</td>\n",
       "      <td>75012</td>\n",
       "      <td>east</td>\n",
       "    </tr>\n",
       "    <tr>\n",
       "      <th>165982</th>\n",
       "      <td>2021-03-10 23:45:00</td>\n",
       "      <td>FR*V75*EBELI*98*1</td>\n",
       "      <td>95</td>\n",
       "      <td>4</td>\n",
       "      <td>24122</td>\n",
       "      <td>48.84998</td>\n",
       "      <td>2.361920</td>\n",
       "      <td>75004</td>\n",
       "      <td>south</td>\n",
       "    </tr>\n",
       "    <tr>\n",
       "      <th>165983</th>\n",
       "      <td>2021-03-10 23:45:00</td>\n",
       "      <td>FR*V75*EBELI*99*1</td>\n",
       "      <td>95</td>\n",
       "      <td>4</td>\n",
       "      <td>24122</td>\n",
       "      <td>48.87780</td>\n",
       "      <td>2.391820</td>\n",
       "      <td>75019</td>\n",
       "      <td>east</td>\n",
       "    </tr>\n",
       "  </tbody>\n",
       "</table>\n",
       "</div>"
      ],
      "text/plain": [
       "                       date            Station  tod  dow  trend  Latitude  \\\n",
       "165979  2021-03-10 23:45:00  FR*V75*EBELI*95*1   95    4  24122  48.86851   \n",
       "165980  2021-03-10 23:45:00  FR*V75*EBELI*96*1   95    4  24122  48.83550   \n",
       "165981  2021-03-10 23:45:00  FR*V75*EBELI*97*1   95    4  24122  48.83995   \n",
       "165982  2021-03-10 23:45:00  FR*V75*EBELI*98*1   95    4  24122  48.84998   \n",
       "165983  2021-03-10 23:45:00  FR*V75*EBELI*99*1   95    4  24122  48.87780   \n",
       "\n",
       "        Longitude  Postcode   area  \n",
       "165979   2.295469     75016   west  \n",
       "165980   2.349650     75013  south  \n",
       "165981   2.397822     75012   east  \n",
       "165982   2.361920     75004  south  \n",
       "165983   2.391820     75019   east  "
      ]
     },
     "execution_count": 7,
     "metadata": {},
     "output_type": "execute_result"
    }
   ],
   "source": [
    "df_test = pd.read_csv(os.path.join(DATA_FOLDER, \"test.csv\"))\n",
    "df_test.tail()"
   ]
  },
  {
   "cell_type": "code",
   "execution_count": 8,
   "id": "d115021f",
   "metadata": {},
   "outputs": [],
   "source": [
    "# predict\n",
    "\n",
    "df_test[\"station-tod\"] = df_test.Station + \"-\" + df.tod.astype(str)\n",
    "\n",
    "for y_col in [tar.lower() for tar in TARGETS]:\n",
    "    df_test[y_col] = (\n",
    "        df_test[\"station-tod\"]\n",
    "        .map(models[y_col])\n",
    "    )    "
   ]
  },
  {
   "cell_type": "code",
   "execution_count": 9,
   "id": "4e11c613",
   "metadata": {},
   "outputs": [
    {
     "data": {
      "text/html": [
       "<div>\n",
       "<style scoped>\n",
       "    .dataframe tbody tr th:only-of-type {\n",
       "        vertical-align: middle;\n",
       "    }\n",
       "\n",
       "    .dataframe tbody tr th {\n",
       "        vertical-align: top;\n",
       "    }\n",
       "\n",
       "    .dataframe thead th {\n",
       "        text-align: right;\n",
       "    }\n",
       "</style>\n",
       "<table border=\"1\" class=\"dataframe\">\n",
       "  <thead>\n",
       "    <tr style=\"text-align: right;\">\n",
       "      <th></th>\n",
       "      <th>date</th>\n",
       "      <th>Station</th>\n",
       "      <th>tod</th>\n",
       "      <th>dow</th>\n",
       "      <th>trend</th>\n",
       "      <th>Latitude</th>\n",
       "      <th>Longitude</th>\n",
       "      <th>Postcode</th>\n",
       "      <th>area</th>\n",
       "      <th>Available</th>\n",
       "      <th>Charging</th>\n",
       "      <th>Passive</th>\n",
       "      <th>Other</th>\n",
       "    </tr>\n",
       "  </thead>\n",
       "  <tbody>\n",
       "    <tr>\n",
       "      <th>165979</th>\n",
       "      <td>2021-03-10 23:45:00</td>\n",
       "      <td>FR*V75*EBELI*95*1</td>\n",
       "      <td>95</td>\n",
       "      <td>4</td>\n",
       "      <td>24122</td>\n",
       "      <td>48.86851</td>\n",
       "      <td>2.295469</td>\n",
       "      <td>75016</td>\n",
       "      <td>west</td>\n",
       "      <td>1.0</td>\n",
       "      <td>0.0</td>\n",
       "      <td>0.0</td>\n",
       "      <td>2.0</td>\n",
       "    </tr>\n",
       "    <tr>\n",
       "      <th>165980</th>\n",
       "      <td>2021-03-10 23:45:00</td>\n",
       "      <td>FR*V75*EBELI*96*1</td>\n",
       "      <td>95</td>\n",
       "      <td>4</td>\n",
       "      <td>24122</td>\n",
       "      <td>48.83550</td>\n",
       "      <td>2.349650</td>\n",
       "      <td>75013</td>\n",
       "      <td>south</td>\n",
       "      <td>2.0</td>\n",
       "      <td>0.0</td>\n",
       "      <td>0.0</td>\n",
       "      <td>0.0</td>\n",
       "    </tr>\n",
       "    <tr>\n",
       "      <th>165981</th>\n",
       "      <td>2021-03-10 23:45:00</td>\n",
       "      <td>FR*V75*EBELI*97*1</td>\n",
       "      <td>95</td>\n",
       "      <td>4</td>\n",
       "      <td>24122</td>\n",
       "      <td>48.83995</td>\n",
       "      <td>2.397822</td>\n",
       "      <td>75012</td>\n",
       "      <td>east</td>\n",
       "      <td>2.0</td>\n",
       "      <td>0.0</td>\n",
       "      <td>0.0</td>\n",
       "      <td>0.0</td>\n",
       "    </tr>\n",
       "    <tr>\n",
       "      <th>165982</th>\n",
       "      <td>2021-03-10 23:45:00</td>\n",
       "      <td>FR*V75*EBELI*98*1</td>\n",
       "      <td>95</td>\n",
       "      <td>4</td>\n",
       "      <td>24122</td>\n",
       "      <td>48.84998</td>\n",
       "      <td>2.361920</td>\n",
       "      <td>75004</td>\n",
       "      <td>south</td>\n",
       "      <td>3.0</td>\n",
       "      <td>0.0</td>\n",
       "      <td>0.0</td>\n",
       "      <td>0.0</td>\n",
       "    </tr>\n",
       "    <tr>\n",
       "      <th>165983</th>\n",
       "      <td>2021-03-10 23:45:00</td>\n",
       "      <td>FR*V75*EBELI*99*1</td>\n",
       "      <td>95</td>\n",
       "      <td>4</td>\n",
       "      <td>24122</td>\n",
       "      <td>48.87780</td>\n",
       "      <td>2.391820</td>\n",
       "      <td>75019</td>\n",
       "      <td>east</td>\n",
       "      <td>2.0</td>\n",
       "      <td>0.0</td>\n",
       "      <td>0.0</td>\n",
       "      <td>0.0</td>\n",
       "    </tr>\n",
       "  </tbody>\n",
       "</table>\n",
       "</div>"
      ],
      "text/plain": [
       "                       date            Station  tod  dow  trend  Latitude  \\\n",
       "165979  2021-03-10 23:45:00  FR*V75*EBELI*95*1   95    4  24122  48.86851   \n",
       "165980  2021-03-10 23:45:00  FR*V75*EBELI*96*1   95    4  24122  48.83550   \n",
       "165981  2021-03-10 23:45:00  FR*V75*EBELI*97*1   95    4  24122  48.83995   \n",
       "165982  2021-03-10 23:45:00  FR*V75*EBELI*98*1   95    4  24122  48.84998   \n",
       "165983  2021-03-10 23:45:00  FR*V75*EBELI*99*1   95    4  24122  48.87780   \n",
       "\n",
       "        Longitude  Postcode   area  Available  Charging  Passive  Other  \n",
       "165979   2.295469     75016   west        1.0       0.0      0.0    2.0  \n",
       "165980   2.349650     75013  south        2.0       0.0      0.0    0.0  \n",
       "165981   2.397822     75012   east        2.0       0.0      0.0    0.0  \n",
       "165982   2.361920     75004  south        3.0       0.0      0.0    0.0  \n",
       "165983   2.391820     75019   east        2.0       0.0      0.0    0.0  "
      ]
     },
     "execution_count": 9,
     "metadata": {},
     "output_type": "execute_result"
    }
   ],
   "source": [
    "# join preds on test data\n",
    "\n",
    "df_test = (\n",
    "    df_test\n",
    "    .rename(\n",
    "        {\n",
    "            \"available\": \"Available\", \n",
    "            \"charging\": \"Charging\", \n",
    "            \"passive\": \"Passive\", \n",
    "            \"other\": \"Other\",\n",
    "        }, \n",
    "        axis=1\n",
    "    )\n",
    "    .drop([\"station-tod\"], axis=1)\n",
    ")\n",
    "\n",
    "df_test[TARGETS] = df_test[TARGETS].round()\n",
    "\n",
    "df_test.tail()"
   ]
  },
  {
   "cell_type": "code",
   "execution_count": 10,
   "id": "29a1271e",
   "metadata": {},
   "outputs": [
    {
     "data": {
      "text/plain": [
       "date          object\n",
       "Station       object\n",
       "tod            int64\n",
       "dow            int64\n",
       "trend          int64\n",
       "Latitude     float64\n",
       "Longitude    float64\n",
       "Postcode       int64\n",
       "area          object\n",
       "Available    float64\n",
       "Charging     float64\n",
       "Passive      float64\n",
       "Other        float64\n",
       "dtype: object"
      ]
     },
     "execution_count": 10,
     "metadata": {},
     "output_type": "execute_result"
    }
   ],
   "source": [
    "df_test.dtypes"
   ]
  },
  {
   "cell_type": "code",
   "execution_count": 11,
   "id": "7cdb5a69",
   "metadata": {},
   "outputs": [],
   "source": [
    "# convert data in the right format\n",
    "\n",
    "df_test[\"date\"] = pd.to_datetime(df_test[\"date\"])\n",
    "df_test[\"Postcode\"] = df_test[\"Postcode\"].astype(str)"
   ]
  },
  {
   "cell_type": "markdown",
   "id": "fd4f1d70",
   "metadata": {},
   "source": [
    "## Process predictions"
   ]
  },
  {
   "cell_type": "code",
   "execution_count": 12,
   "id": "2e1a1ab9",
   "metadata": {},
   "outputs": [
    {
     "data": {
      "text/plain": [
       "3.0    105070\n",
       "2.0     58140\n",
       "4.0      2774\n",
       "Name: plugs_sum, dtype: int64"
      ]
     },
     "execution_count": 12,
     "metadata": {},
     "output_type": "execute_result"
    }
   ],
   "source": [
    "df_test[\"plugs_sum\"] = (\n",
    "    df_test\n",
    "    .loc[:, TARGETS]\n",
    "    .sum(axis=1)\n",
    ")\n",
    "\n",
    "df_test.plugs_sum.value_counts()"
   ]
  },
  {
   "cell_type": "code",
   "execution_count": 13,
   "id": "5d8b310e",
   "metadata": {},
   "outputs": [],
   "source": [
    "# add other column values\n",
    "\n",
    "df_test[\"Available\"] = (\n",
    "    df_test\n",
    "    .Available\n",
    "    .mask(\n",
    "        df_test.plugs_sum.eq(2),\n",
    "        df_test.Available.add(1)\n",
    "    )\n",
    ")"
   ]
  },
  {
   "cell_type": "code",
   "execution_count": 14,
   "id": "f6a41250",
   "metadata": {},
   "outputs": [
    {
     "data": {
      "text/plain": [
       "3.0    163210\n",
       "4.0      2774\n",
       "Name: plugs_sum, dtype: int64"
      ]
     },
     "execution_count": 14,
     "metadata": {},
     "output_type": "execute_result"
    }
   ],
   "source": [
    "df_test[\"plugs_sum\"] = (\n",
    "    df_test\n",
    "    .loc[:, TARGETS]\n",
    "    .sum(axis=1)\n",
    ")\n",
    "\n",
    "df_test.plugs_sum.value_counts()"
   ]
  },
  {
   "cell_type": "code",
   "execution_count": 15,
   "id": "39bbb9c1",
   "metadata": {},
   "outputs": [
    {
     "data": {
      "text/plain": [
       "2-0-1-1    1197\n",
       "2-1-0-1     836\n",
       "2-1-1-0     741\n",
       "dtype: int64"
      ]
     },
     "execution_count": 15,
     "metadata": {},
     "output_type": "execute_result"
    }
   ],
   "source": [
    "# get rid of plugs_sum == 4\n",
    "\n",
    "# check distributions\n",
    "(\n",
    "    df_test\n",
    "    .loc[df_test.plugs_sum == 4]\n",
    "    .apply(\n",
    "        lambda row: f\"{int(row['Available'])}-{int(row['Charging'])}-{int(row['Passive'])}-{int(row['Other'])}\",\n",
    "        axis=1\n",
    "    )\n",
    "    .value_counts()\n",
    ")"
   ]
  },
  {
   "cell_type": "code",
   "execution_count": 16,
   "id": "0286b3c6",
   "metadata": {},
   "outputs": [],
   "source": [
    "df_test[\"Other\"] = (\n",
    "    df_test\n",
    "    .Other\n",
    "    .mask(\n",
    "        df_test.plugs_sum.eq(4),\n",
    "        0\n",
    "    )\n",
    ")"
   ]
  },
  {
   "cell_type": "code",
   "execution_count": 17,
   "id": "638e6522",
   "metadata": {},
   "outputs": [
    {
     "data": {
      "text/plain": [
       "3.0    165243\n",
       "4.0       741\n",
       "Name: plugs_sum, dtype: int64"
      ]
     },
     "execution_count": 17,
     "metadata": {},
     "output_type": "execute_result"
    }
   ],
   "source": [
    "df_test[\"plugs_sum\"] = (\n",
    "    df_test\n",
    "    .loc[:, TARGETS]\n",
    "    .sum(axis=1)\n",
    ")\n",
    "\n",
    "df_test.plugs_sum.value_counts()"
   ]
  },
  {
   "cell_type": "code",
   "execution_count": 18,
   "id": "22ad69fb",
   "metadata": {},
   "outputs": [
    {
     "data": {
      "text/plain": [
       "2-1-1-0    741\n",
       "dtype: int64"
      ]
     },
     "execution_count": 18,
     "metadata": {},
     "output_type": "execute_result"
    }
   ],
   "source": [
    "# get rid of plugs_sum == 4\n",
    "\n",
    "# check distributions\n",
    "(\n",
    "    df_test\n",
    "    .loc[df_test.plugs_sum == 4]\n",
    "    .apply(\n",
    "        lambda row: f\"{int(row['Available'])}-{int(row['Charging'])}-{int(row['Passive'])}-{int(row['Other'])}\",\n",
    "        axis=1\n",
    "    )\n",
    "    .value_counts()\n",
    ")"
   ]
  },
  {
   "cell_type": "code",
   "execution_count": 19,
   "id": "81ee99e8",
   "metadata": {},
   "outputs": [],
   "source": [
    "df_test[\"Passive\"] = (\n",
    "    df_test\n",
    "    .Passive\n",
    "    .mask(\n",
    "        df_test.plugs_sum.eq(4),\n",
    "        0\n",
    "    )\n",
    ")"
   ]
  },
  {
   "cell_type": "code",
   "execution_count": 20,
   "id": "52092735",
   "metadata": {},
   "outputs": [
    {
     "data": {
      "text/plain": [
       "3.0    165984\n",
       "Name: plugs_sum, dtype: int64"
      ]
     },
     "execution_count": 20,
     "metadata": {},
     "output_type": "execute_result"
    }
   ],
   "source": [
    "df_test[\"plugs_sum\"] = (\n",
    "    df_test\n",
    "    .loc[:, TARGETS]\n",
    "    .sum(axis=1)\n",
    ")\n",
    "\n",
    "df_test.plugs_sum.value_counts()"
   ]
  },
  {
   "cell_type": "markdown",
   "id": "277fbf22",
   "metadata": {},
   "source": [
    "## Create submission"
   ]
  },
  {
   "cell_type": "code",
   "execution_count": 21,
   "id": "3fd6e143",
   "metadata": {},
   "outputs": [],
   "source": [
    "# create CSV on station level\n",
    "\n",
    "(\n",
    "    df_test\n",
    "    .loc[:, [\"date\", \"area\", \"Station\"] + TARGETS]\n",
    "    .to_csv(os.path.join(SUBMISSIONS_FOLDER, \"station.csv\"), index=False)\n",
    ")"
   ]
  },
  {
   "cell_type": "code",
   "execution_count": 22,
   "id": "8f27cb08",
   "metadata": {},
   "outputs": [],
   "source": [
    "# create CSV on area level\n",
    "\n",
    "(\n",
    "    df_test\n",
    "    .groupby([\"date\", \"area\"])[TARGETS]\n",
    "    .sum()\n",
    "    .reset_index()\n",
    "    .to_csv(os.path.join(SUBMISSIONS_FOLDER, \"area.csv\"), index=False)\n",
    ")"
   ]
  },
  {
   "cell_type": "code",
   "execution_count": 23,
   "id": "8dc3e7fc",
   "metadata": {},
   "outputs": [],
   "source": [
    "# create CSV on area level\n",
    "\n",
    "(\n",
    "    df_test\n",
    "    .groupby([\"date\"])[TARGETS]\n",
    "    .sum()\n",
    "    .reset_index()\n",
    "    .to_csv(os.path.join(SUBMISSIONS_FOLDER, \"global.csv\"), index=False)\n",
    ")"
   ]
  },
  {
   "cell_type": "code",
   "execution_count": 24,
   "id": "c75db92c",
   "metadata": {},
   "outputs": [
    {
     "data": {
      "text/plain": [
       "'/usr/src/app/data/20221130205124_submissions.zip'"
      ]
     },
     "execution_count": 24,
     "metadata": {},
     "output_type": "execute_result"
    }
   ],
   "source": [
    "# add CSV files into ZIP archive \n",
    "\n",
    "dt_now = datetime.datetime.now().strftime(\"%Y%m%d%H%M%S\")\n",
    "\n",
    "shutil.make_archive(\n",
    "    base_name=f\"/usr/src/app/data/{dt_now}_submissions\", \n",
    "    format=\"zip\", \n",
    "    root_dir=\"/usr/src/app/data/submissions/\"\n",
    ")"
   ]
  },
  {
   "cell_type": "markdown",
   "id": "3a2fc715",
   "metadata": {},
   "source": [
    "## Results\n",
    "\n",
    "- The simplest model had the best results. :/"
   ]
  }
 ],
 "metadata": {
  "kernelspec": {
   "display_name": "Python 3 (ipykernel)",
   "language": "python",
   "name": "python3"
  },
  "language_info": {
   "codemirror_mode": {
    "name": "ipython",
    "version": 3
   },
   "file_extension": ".py",
   "mimetype": "text/x-python",
   "name": "python",
   "nbconvert_exporter": "python",
   "pygments_lexer": "ipython3",
   "version": "3.8.12"
  }
 },
 "nbformat": 4,
 "nbformat_minor": 5
}

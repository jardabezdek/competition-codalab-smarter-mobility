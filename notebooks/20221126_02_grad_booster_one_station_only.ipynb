{
 "cells": [
  {
   "cell_type": "markdown",
   "id": "6bd7c431",
   "metadata": {},
   "source": [
    "## In this notebook\n",
    "\n",
    "- Create the base model.\n",
    "- Overall goal of the task: Predict electronic vehicles charging stations availability in Paris.\n",
    "- There are four target columns:\n",
    "    - `Available`: how many plugs are available at time t for the station k,\n",
    "    - `Charging`: how many plugs are occupied and charging at time t for the station k,\n",
    "    - `Passive`: how many plugs are occupied but not charging at time t for the station k,\n",
    "    - `Other`: how many plugs are either offline or out of order at time t for the station k."
   ]
  },
  {
   "cell_type": "code",
   "execution_count": 1,
   "id": "fb76e3a2",
   "metadata": {},
   "outputs": [],
   "source": [
    "import os\n",
    "\n",
    "# analytics\n",
    "import pandas as pd\n",
    "pd.set_option('display.max_rows', 100)\n",
    "pd.set_option('display.max_columns', 100)\n",
    "import numpy as np\n",
    "\n",
    "# model\n",
    "from sklearn.compose import ColumnTransformer\n",
    "from sklearn.ensemble import GradientBoostingClassifier\n",
    "from sklearn.metrics import (\n",
    "    accuracy_score, \n",
    "    confusion_matrix, \n",
    "    f1_score, \n",
    "    precision_score, \n",
    "    recall_score, \n",
    "    top_k_accuracy_score,\n",
    ")\n",
    "from sklearn.pipeline import Pipeline\n",
    "from sklearn.preprocessing import MinMaxScaler, OrdinalEncoder\n",
    "\n",
    "# plot\n",
    "import matplotlib\n",
    "import matplotlib.pyplot as plt\n",
    "import seaborn as sns\n",
    "sns.set()"
   ]
  },
  {
   "cell_type": "code",
   "execution_count": 2,
   "id": "9b8965ad",
   "metadata": {},
   "outputs": [],
   "source": [
    "%matplotlib inline\n",
    "plt.rcParams['figure.figsize'] = [10, 5]"
   ]
  },
  {
   "cell_type": "code",
   "execution_count": 3,
   "id": "b659b234",
   "metadata": {},
   "outputs": [],
   "source": [
    "DATA_FOLDER = \"../data\"\n",
    "\n",
    "DAYS_IN_TEST_SET = 7 * 4\n",
    "\n",
    "Y_COLUMN = \"available\"\n",
    "X_COLUMNS = [\n",
    "    \"tod\",\n",
    "    \"dow\",\n",
    "]"
   ]
  },
  {
   "cell_type": "code",
   "execution_count": 4,
   "id": "1cfe2fd8",
   "metadata": {},
   "outputs": [
    {
     "name": "stdout",
     "output_type": "stream",
     "text": [
      "total 181500\r\n",
      "-rw-rw-r-- 1 nobody nogroup  14095077 Aug  4 08:41 test.csv\r\n",
      "-rw-rw-r-- 1 nobody nogroup 171754453 Aug  4 08:41 train.csv\r\n"
     ]
    }
   ],
   "source": [
    "! ls -l $DATA_FOLDER"
   ]
  },
  {
   "cell_type": "markdown",
   "id": "702f2abb",
   "metadata": {},
   "source": [
    "## Load data"
   ]
  },
  {
   "cell_type": "code",
   "execution_count": 5,
   "id": "4a917206",
   "metadata": {},
   "outputs": [
    {
     "data": {
      "text/html": [
       "<div>\n",
       "<style scoped>\n",
       "    .dataframe tbody tr th:only-of-type {\n",
       "        vertical-align: middle;\n",
       "    }\n",
       "\n",
       "    .dataframe tbody tr th {\n",
       "        vertical-align: top;\n",
       "    }\n",
       "\n",
       "    .dataframe thead th {\n",
       "        text-align: right;\n",
       "    }\n",
       "</style>\n",
       "<table border=\"1\" class=\"dataframe\">\n",
       "  <thead>\n",
       "    <tr style=\"text-align: right;\">\n",
       "      <th></th>\n",
       "      <th>date</th>\n",
       "      <th>station</th>\n",
       "      <th>available</th>\n",
       "      <th>charging</th>\n",
       "      <th>passive</th>\n",
       "      <th>other</th>\n",
       "      <th>tod</th>\n",
       "      <th>dow</th>\n",
       "      <th>trend</th>\n",
       "      <th>latitude</th>\n",
       "      <th>longitude</th>\n",
       "      <th>postcode</th>\n",
       "      <th>area</th>\n",
       "    </tr>\n",
       "  </thead>\n",
       "  <tbody>\n",
       "    <tr>\n",
       "      <th>1851078</th>\n",
       "      <td>2021-02-18 23:45:00</td>\n",
       "      <td>FR*V75*EBELI*95*1</td>\n",
       "      <td>0</td>\n",
       "      <td>0</td>\n",
       "      <td>0</td>\n",
       "      <td>3</td>\n",
       "      <td>95</td>\n",
       "      <td>5</td>\n",
       "      <td>22202</td>\n",
       "      <td>48.86851</td>\n",
       "      <td>2.295469</td>\n",
       "      <td>75016</td>\n",
       "      <td>west</td>\n",
       "    </tr>\n",
       "    <tr>\n",
       "      <th>1851079</th>\n",
       "      <td>2021-02-18 23:45:00</td>\n",
       "      <td>FR*V75*EBELI*96*1</td>\n",
       "      <td>2</td>\n",
       "      <td>1</td>\n",
       "      <td>0</td>\n",
       "      <td>0</td>\n",
       "      <td>95</td>\n",
       "      <td>5</td>\n",
       "      <td>22202</td>\n",
       "      <td>48.83550</td>\n",
       "      <td>2.349650</td>\n",
       "      <td>75013</td>\n",
       "      <td>south</td>\n",
       "    </tr>\n",
       "    <tr>\n",
       "      <th>1851080</th>\n",
       "      <td>2021-02-18 23:45:00</td>\n",
       "      <td>FR*V75*EBELI*97*1</td>\n",
       "      <td>1</td>\n",
       "      <td>1</td>\n",
       "      <td>1</td>\n",
       "      <td>0</td>\n",
       "      <td>95</td>\n",
       "      <td>5</td>\n",
       "      <td>22202</td>\n",
       "      <td>48.83995</td>\n",
       "      <td>2.397822</td>\n",
       "      <td>75012</td>\n",
       "      <td>east</td>\n",
       "    </tr>\n",
       "    <tr>\n",
       "      <th>1851081</th>\n",
       "      <td>2021-02-18 23:45:00</td>\n",
       "      <td>FR*V75*EBELI*98*1</td>\n",
       "      <td>2</td>\n",
       "      <td>0</td>\n",
       "      <td>1</td>\n",
       "      <td>0</td>\n",
       "      <td>95</td>\n",
       "      <td>5</td>\n",
       "      <td>22202</td>\n",
       "      <td>48.84998</td>\n",
       "      <td>2.361920</td>\n",
       "      <td>75004</td>\n",
       "      <td>south</td>\n",
       "    </tr>\n",
       "    <tr>\n",
       "      <th>1851082</th>\n",
       "      <td>2021-02-18 23:45:00</td>\n",
       "      <td>FR*V75*EBELI*99*1</td>\n",
       "      <td>3</td>\n",
       "      <td>0</td>\n",
       "      <td>0</td>\n",
       "      <td>0</td>\n",
       "      <td>95</td>\n",
       "      <td>5</td>\n",
       "      <td>22202</td>\n",
       "      <td>48.87780</td>\n",
       "      <td>2.391820</td>\n",
       "      <td>75019</td>\n",
       "      <td>east</td>\n",
       "    </tr>\n",
       "  </tbody>\n",
       "</table>\n",
       "</div>"
      ],
      "text/plain": [
       "                        date            station  available  charging  passive  \\\n",
       "1851078  2021-02-18 23:45:00  FR*V75*EBELI*95*1          0         0        0   \n",
       "1851079  2021-02-18 23:45:00  FR*V75*EBELI*96*1          2         1        0   \n",
       "1851080  2021-02-18 23:45:00  FR*V75*EBELI*97*1          1         1        1   \n",
       "1851081  2021-02-18 23:45:00  FR*V75*EBELI*98*1          2         0        1   \n",
       "1851082  2021-02-18 23:45:00  FR*V75*EBELI*99*1          3         0        0   \n",
       "\n",
       "         other  tod  dow  trend  latitude  longitude  postcode   area  \n",
       "1851078      3   95    5  22202  48.86851   2.295469     75016   west  \n",
       "1851079      0   95    5  22202  48.83550   2.349650     75013  south  \n",
       "1851080      0   95    5  22202  48.83995   2.397822     75012   east  \n",
       "1851081      0   95    5  22202  48.84998   2.361920     75004  south  \n",
       "1851082      0   95    5  22202  48.87780   2.391820     75019   east  "
      ]
     },
     "execution_count": 5,
     "metadata": {},
     "output_type": "execute_result"
    }
   ],
   "source": [
    "# load train data\n",
    "\n",
    "df = pd.read_csv(os.path.join(DATA_FOLDER, \"train.csv\"))\n",
    "df.columns = [col.lower() for col in df.columns]\n",
    "\n",
    "df.tail()"
   ]
  },
  {
   "cell_type": "code",
   "execution_count": 6,
   "id": "f93c039e",
   "metadata": {},
   "outputs": [],
   "source": [
    "# leave only one target - \"available\" - in the data set\n",
    "\n",
    "df = df.drop([\"charging\", \"passive\", \"other\"], axis=1)"
   ]
  },
  {
   "cell_type": "code",
   "execution_count": 7,
   "id": "59b8d9ef",
   "metadata": {},
   "outputs": [
    {
     "data": {
      "text/html": [
       "<div>\n",
       "<style scoped>\n",
       "    .dataframe tbody tr th:only-of-type {\n",
       "        vertical-align: middle;\n",
       "    }\n",
       "\n",
       "    .dataframe tbody tr th {\n",
       "        vertical-align: top;\n",
       "    }\n",
       "\n",
       "    .dataframe thead th {\n",
       "        text-align: right;\n",
       "    }\n",
       "</style>\n",
       "<table border=\"1\" class=\"dataframe\">\n",
       "  <thead>\n",
       "    <tr style=\"text-align: right;\">\n",
       "      <th></th>\n",
       "      <th>date</th>\n",
       "      <th>station</th>\n",
       "      <th>available</th>\n",
       "      <th>tod</th>\n",
       "      <th>dow</th>\n",
       "      <th>trend</th>\n",
       "      <th>latitude</th>\n",
       "      <th>longitude</th>\n",
       "      <th>postcode</th>\n",
       "      <th>area</th>\n",
       "    </tr>\n",
       "  </thead>\n",
       "  <tbody>\n",
       "    <tr>\n",
       "      <th>22116</th>\n",
       "      <td>2021-02-18 22:45:00</td>\n",
       "      <td>FR*V75*EBELI*48*1</td>\n",
       "      <td>3</td>\n",
       "      <td>91</td>\n",
       "      <td>5</td>\n",
       "      <td>22198</td>\n",
       "      <td>48.83289</td>\n",
       "      <td>2.363025</td>\n",
       "      <td>75013</td>\n",
       "      <td>south</td>\n",
       "    </tr>\n",
       "    <tr>\n",
       "      <th>22117</th>\n",
       "      <td>2021-02-18 23:00:00</td>\n",
       "      <td>FR*V75*EBELI*48*1</td>\n",
       "      <td>3</td>\n",
       "      <td>92</td>\n",
       "      <td>5</td>\n",
       "      <td>22199</td>\n",
       "      <td>48.83289</td>\n",
       "      <td>2.363025</td>\n",
       "      <td>75013</td>\n",
       "      <td>south</td>\n",
       "    </tr>\n",
       "    <tr>\n",
       "      <th>22118</th>\n",
       "      <td>2021-02-18 23:15:00</td>\n",
       "      <td>FR*V75*EBELI*48*1</td>\n",
       "      <td>3</td>\n",
       "      <td>93</td>\n",
       "      <td>5</td>\n",
       "      <td>22200</td>\n",
       "      <td>48.83289</td>\n",
       "      <td>2.363025</td>\n",
       "      <td>75013</td>\n",
       "      <td>south</td>\n",
       "    </tr>\n",
       "    <tr>\n",
       "      <th>22119</th>\n",
       "      <td>2021-02-18 23:30:00</td>\n",
       "      <td>FR*V75*EBELI*48*1</td>\n",
       "      <td>3</td>\n",
       "      <td>94</td>\n",
       "      <td>5</td>\n",
       "      <td>22201</td>\n",
       "      <td>48.83289</td>\n",
       "      <td>2.363025</td>\n",
       "      <td>75013</td>\n",
       "      <td>south</td>\n",
       "    </tr>\n",
       "    <tr>\n",
       "      <th>22120</th>\n",
       "      <td>2021-02-18 23:45:00</td>\n",
       "      <td>FR*V75*EBELI*48*1</td>\n",
       "      <td>3</td>\n",
       "      <td>95</td>\n",
       "      <td>5</td>\n",
       "      <td>22202</td>\n",
       "      <td>48.83289</td>\n",
       "      <td>2.363025</td>\n",
       "      <td>75013</td>\n",
       "      <td>south</td>\n",
       "    </tr>\n",
       "  </tbody>\n",
       "</table>\n",
       "</div>"
      ],
      "text/plain": [
       "                      date            station  available  tod  dow  trend  \\\n",
       "22116  2021-02-18 22:45:00  FR*V75*EBELI*48*1          3   91    5  22198   \n",
       "22117  2021-02-18 23:00:00  FR*V75*EBELI*48*1          3   92    5  22199   \n",
       "22118  2021-02-18 23:15:00  FR*V75*EBELI*48*1          3   93    5  22200   \n",
       "22119  2021-02-18 23:30:00  FR*V75*EBELI*48*1          3   94    5  22201   \n",
       "22120  2021-02-18 23:45:00  FR*V75*EBELI*48*1          3   95    5  22202   \n",
       "\n",
       "       latitude  longitude  postcode   area  \n",
       "22116  48.83289   2.363025     75013  south  \n",
       "22117  48.83289   2.363025     75013  south  \n",
       "22118  48.83289   2.363025     75013  south  \n",
       "22119  48.83289   2.363025     75013  south  \n",
       "22120  48.83289   2.363025     75013  south  "
      ]
     },
     "execution_count": 7,
     "metadata": {},
     "output_type": "execute_result"
    }
   ],
   "source": [
    "# filter the most frequent station\n",
    "\n",
    "most_frequent_station = df.station.value_counts().index[0]\n",
    "df = df.loc[df.station == most_frequent_station].reset_index(drop=True)\n",
    "\n",
    "df.tail()"
   ]
  },
  {
   "cell_type": "markdown",
   "id": "38682588",
   "metadata": {},
   "source": [
    "## Process data"
   ]
  },
  {
   "cell_type": "code",
   "execution_count": 8,
   "id": "fe3d9454",
   "metadata": {},
   "outputs": [
    {
     "name": "stdout",
     "output_type": "stream",
     "text": [
      "X_train.shape=(19438, 2)\n",
      "y_train.shape=(19438,)\n",
      "X_test.shape=(2683, 2)\n",
      "y_test.shape=(2683,)\n"
     ]
    }
   ],
   "source": [
    "# split data into X and y\n",
    "\n",
    "df[\"date\"] = pd.to_datetime(df.date)\n",
    "df = df.sort_values(by=[\"date\"]).reset_index(drop=True)\n",
    "\n",
    "last_train_set_datetime = df.date.max() - pd.Timedelta(days=DAYS_IN_TEST_SET)\n",
    "\n",
    "X_train = df.loc[df.date <= last_train_set_datetime, X_COLUMNS]\n",
    "y_train = df.loc[df.date <= last_train_set_datetime, Y_COLUMN]\n",
    "X_test = df.loc[df.date > last_train_set_datetime, X_COLUMNS]\n",
    "y_test = df.loc[df.date > last_train_set_datetime, Y_COLUMN]\n",
    "\n",
    "\n",
    "print(f\"{X_train.shape=}\")\n",
    "print(f\"{y_train.shape=}\")\n",
    "print(f\"{X_test.shape=}\")\n",
    "print(f\"{y_test.shape=}\")"
   ]
  },
  {
   "cell_type": "markdown",
   "id": "c83d6e28",
   "metadata": {},
   "source": [
    "## Build model"
   ]
  },
  {
   "cell_type": "code",
   "execution_count": 13,
   "id": "269051a3",
   "metadata": {},
   "outputs": [
    {
     "name": "stdout",
     "output_type": "stream",
     "text": [
      "CPU times: user 1.81 s, sys: 0 ns, total: 1.81 s\n",
      "Wall time: 1.81 s\n"
     ]
    },
    {
     "data": {
      "text/html": [
       "<style>#sk-container-id-1 {color: black;background-color: white;}#sk-container-id-1 pre{padding: 0;}#sk-container-id-1 div.sk-toggleable {background-color: white;}#sk-container-id-1 label.sk-toggleable__label {cursor: pointer;display: block;width: 100%;margin-bottom: 0;padding: 0.3em;box-sizing: border-box;text-align: center;}#sk-container-id-1 label.sk-toggleable__label-arrow:before {content: \"▸\";float: left;margin-right: 0.25em;color: #696969;}#sk-container-id-1 label.sk-toggleable__label-arrow:hover:before {color: black;}#sk-container-id-1 div.sk-estimator:hover label.sk-toggleable__label-arrow:before {color: black;}#sk-container-id-1 div.sk-toggleable__content {max-height: 0;max-width: 0;overflow: hidden;text-align: left;background-color: #f0f8ff;}#sk-container-id-1 div.sk-toggleable__content pre {margin: 0.2em;color: black;border-radius: 0.25em;background-color: #f0f8ff;}#sk-container-id-1 input.sk-toggleable__control:checked~div.sk-toggleable__content {max-height: 200px;max-width: 100%;overflow: auto;}#sk-container-id-1 input.sk-toggleable__control:checked~label.sk-toggleable__label-arrow:before {content: \"▾\";}#sk-container-id-1 div.sk-estimator input.sk-toggleable__control:checked~label.sk-toggleable__label {background-color: #d4ebff;}#sk-container-id-1 div.sk-label input.sk-toggleable__control:checked~label.sk-toggleable__label {background-color: #d4ebff;}#sk-container-id-1 input.sk-hidden--visually {border: 0;clip: rect(1px 1px 1px 1px);clip: rect(1px, 1px, 1px, 1px);height: 1px;margin: -1px;overflow: hidden;padding: 0;position: absolute;width: 1px;}#sk-container-id-1 div.sk-estimator {font-family: monospace;background-color: #f0f8ff;border: 1px dotted black;border-radius: 0.25em;box-sizing: border-box;margin-bottom: 0.5em;}#sk-container-id-1 div.sk-estimator:hover {background-color: #d4ebff;}#sk-container-id-1 div.sk-parallel-item::after {content: \"\";width: 100%;border-bottom: 1px solid gray;flex-grow: 1;}#sk-container-id-1 div.sk-label:hover label.sk-toggleable__label {background-color: #d4ebff;}#sk-container-id-1 div.sk-serial::before {content: \"\";position: absolute;border-left: 1px solid gray;box-sizing: border-box;top: 0;bottom: 0;left: 50%;z-index: 0;}#sk-container-id-1 div.sk-serial {display: flex;flex-direction: column;align-items: center;background-color: white;padding-right: 0.2em;padding-left: 0.2em;position: relative;}#sk-container-id-1 div.sk-item {position: relative;z-index: 1;}#sk-container-id-1 div.sk-parallel {display: flex;align-items: stretch;justify-content: center;background-color: white;position: relative;}#sk-container-id-1 div.sk-item::before, #sk-container-id-1 div.sk-parallel-item::before {content: \"\";position: absolute;border-left: 1px solid gray;box-sizing: border-box;top: 0;bottom: 0;left: 50%;z-index: -1;}#sk-container-id-1 div.sk-parallel-item {display: flex;flex-direction: column;z-index: 1;position: relative;background-color: white;}#sk-container-id-1 div.sk-parallel-item:first-child::after {align-self: flex-end;width: 50%;}#sk-container-id-1 div.sk-parallel-item:last-child::after {align-self: flex-start;width: 50%;}#sk-container-id-1 div.sk-parallel-item:only-child::after {width: 0;}#sk-container-id-1 div.sk-dashed-wrapped {border: 1px dashed gray;margin: 0 0.4em 0.5em 0.4em;box-sizing: border-box;padding-bottom: 0.4em;background-color: white;}#sk-container-id-1 div.sk-label label {font-family: monospace;font-weight: bold;display: inline-block;line-height: 1.2em;}#sk-container-id-1 div.sk-label-container {text-align: center;}#sk-container-id-1 div.sk-container {/* jupyter's `normalize.less` sets `[hidden] { display: none; }` but bootstrap.min.css set `[hidden] { display: none !important; }` so we also need the `!important` here to be able to override the default hidden behavior on the sphinx rendered scikit-learn.org. See: https://github.com/scikit-learn/scikit-learn/issues/21755 */display: inline-block !important;position: relative;}#sk-container-id-1 div.sk-text-repr-fallback {display: none;}</style><div id=\"sk-container-id-1\" class=\"sk-top-container\"><div class=\"sk-text-repr-fallback\"><pre>Pipeline(steps=[(&#x27;model&#x27;, GradientBoostingClassifier())])</pre><b>In a Jupyter environment, please rerun this cell to show the HTML representation or trust the notebook. <br />On GitHub, the HTML representation is unable to render, please try loading this page with nbviewer.org.</b></div><div class=\"sk-container\" hidden><div class=\"sk-item sk-dashed-wrapped\"><div class=\"sk-label-container\"><div class=\"sk-label sk-toggleable\"><input class=\"sk-toggleable__control sk-hidden--visually\" id=\"sk-estimator-id-1\" type=\"checkbox\" ><label for=\"sk-estimator-id-1\" class=\"sk-toggleable__label sk-toggleable__label-arrow\">Pipeline</label><div class=\"sk-toggleable__content\"><pre>Pipeline(steps=[(&#x27;model&#x27;, GradientBoostingClassifier())])</pre></div></div></div><div class=\"sk-serial\"><div class=\"sk-item\"><div class=\"sk-estimator sk-toggleable\"><input class=\"sk-toggleable__control sk-hidden--visually\" id=\"sk-estimator-id-2\" type=\"checkbox\" ><label for=\"sk-estimator-id-2\" class=\"sk-toggleable__label sk-toggleable__label-arrow\">GradientBoostingClassifier</label><div class=\"sk-toggleable__content\"><pre>GradientBoostingClassifier()</pre></div></div></div></div></div></div></div>"
      ],
      "text/plain": [
       "Pipeline(steps=[('model', GradientBoostingClassifier())])"
      ]
     },
     "execution_count": 13,
     "metadata": {},
     "output_type": "execute_result"
    }
   ],
   "source": [
    "%%time\n",
    "\n",
    "# define and fit pipeline\n",
    "\n",
    "pipeline = Pipeline([\n",
    "    (\"model\", GradientBoostingClassifier())\n",
    "])\n",
    "\n",
    "pipeline.fit(X_train, y_train)"
   ]
  },
  {
   "cell_type": "code",
   "execution_count": 14,
   "id": "6ba03b2e",
   "metadata": {},
   "outputs": [
    {
     "name": "stdout",
     "output_type": "stream",
     "text": [
      "Results:\n",
      "- accuracy: 0.452\n",
      "- precision: 0.381\n",
      "- recall: 0.452\n",
      "- F1: 0.347\n",
      "- accuracy (top k=2): 0.846\n",
      "\n",
      "- confusion matrix: \n",
      "[[   0    0    2   23]\n",
      " [   0    0  107  276]\n",
      " [   0    0  152  981]\n",
      " [   0    0   80 1062]]\n"
     ]
    }
   ],
   "source": [
    "# check performance on test dataset\n",
    "\n",
    "y_test_pred = pipeline.predict(X_test)\n",
    "y_test_pred_probas = pipeline.predict_proba(X_test)\n",
    "\n",
    "print(\"Results:\")\n",
    "print(f\"- accuracy: {accuracy_score(y_test, y_test_pred):,.3f}\")\n",
    "print(f\"- precision: {precision_score(y_test, y_test_pred, average='weighted', zero_division=0):,.3f}\")\n",
    "print(f\"- recall: {recall_score(y_test, y_test_pred, average='weighted'):,.3f}\")\n",
    "print(f\"- F1: {f1_score(y_test, y_test_pred, average='weighted'):,.3f}\")\n",
    "print(f\"- accuracy (top k=2): {top_k_accuracy_score(y_test, y_test_pred_probas, k=2):,.3f}\")\n",
    "print()\n",
    "print(f\"- confusion matrix: \\n{confusion_matrix(y_test, y_test_pred)}\")"
   ]
  },
  {
   "cell_type": "code",
   "execution_count": 15,
   "id": "06f35109",
   "metadata": {},
   "outputs": [
    {
     "data": {
      "text/plain": [
       "<AxesSubplot: >"
      ]
     },
     "execution_count": 15,
     "metadata": {},
     "output_type": "execute_result"
    },
    {
     "data": {
      "image/png": "[encoded data removed]",
      "text/plain": [
       "<Figure size 1000x500 with 2 Axes>"
      ]
     },
     "metadata": {},
     "output_type": "display_data"
    }
   ],
   "source": [
    "# check confusion matrix (with shares in every true class=rows)\n",
    "\n",
    "cm = confusion_matrix(y_test, y_test_pred)\n",
    "\n",
    "sns.heatmap(\n",
    "    cm / cm.sum(axis=1).reshape(-1, 1) * 100, \n",
    "    annot=True,\n",
    "    # fmt='g',\n",
    "    cmap='Blues',\n",
    ")"
   ]
  },
  {
   "cell_type": "code",
   "execution_count": 16,
   "id": "8e5de5d6",
   "metadata": {},
   "outputs": [
    {
     "data": {
      "image/png": "[encoded data removed]",
      "text/plain": [
       "<Figure size 1000x500 with 1 Axes>"
      ]
     },
     "metadata": {},
     "output_type": "display_data"
    }
   ],
   "source": [
    "# check comparison of true and predicted available plugs\n",
    "\n",
    "df_results = pd.DataFrame({\n",
    "    \"true\": y_test.values,\n",
    "    \"pred\": y_test_pred,\n",
    "})\n",
    "\n",
    "# ax = df_results.plot(alpha=0.75)\n",
    "ax = df_results.plot()\n",
    "\n",
    "ax.set_xlabel(\"Timeline\")\n",
    "ax.set_ylabel(\"Available plugs count\")\n",
    "ax.set_title(\"True and predicted available plugs\")\n",
    "\n",
    "plt.show()"
   ]
  },
  {
   "cell_type": "markdown",
   "id": "15eeccd2",
   "metadata": {},
   "source": [
    "## Results\n",
    "\n",
    "- Created a base model on the data of the most frequent station only!\n",
    "- The results are following:\n",
    "    - accuracy: 0.452\n",
    "    - precision: 0.381\n",
    "    - recall: 0.452\n",
    "    - F1: 0.347\n",
    "    - accuracy (top k=2): 0.846"
   ]
  }
 ],
 "metadata": {
  "kernelspec": {
   "display_name": "Python 3 (ipykernel)",
   "language": "python",
   "name": "python3"
  },
  "language_info": {
   "codemirror_mode": {
    "name": "ipython",
    "version": 3
   },
   "file_extension": ".py",
   "mimetype": "text/x-python",
   "name": "python",
   "nbconvert_exporter": "python",
   "pygments_lexer": "ipython3",
   "version": "3.8.12"
  }
 },
 "nbformat": 4,
 "nbformat_minor": 5
}
